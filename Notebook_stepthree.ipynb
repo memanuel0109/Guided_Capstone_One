{
 "cells": [
  {
   "cell_type": "markdown",
   "metadata": {},
   "source": [
    "# Import Packages"
   ]
  },
  {
   "cell_type": "code",
   "execution_count": 1,
   "metadata": {},
   "outputs": [],
   "source": [
    "import pandas as pd\n",
    "import numpy as np\n",
    "\n",
    "import seaborn as sns\n",
    "import matplotlib.pyplot as plt\n",
    "%matplotlib inline\n",
    "\n",
    "from scipy.stats import linregress"
   ]
  },
  {
   "cell_type": "code",
   "execution_count": 2,
   "metadata": {},
   "outputs": [],
   "source": [
    "# See all columns in head\n",
    "pd.set_option(\"display.max.columns\", None)"
   ]
  },
  {
   "cell_type": "markdown",
   "metadata": {},
   "source": [
    "# Import Data"
   ]
  },
  {
   "cell_type": "code",
   "execution_count": 3,
   "metadata": {},
   "outputs": [],
   "source": [
    "skidata = pd.read_csv('ski_data.csv')"
   ]
  },
  {
   "cell_type": "code",
   "execution_count": 4,
   "metadata": {},
   "outputs": [
    {
     "data": {
      "text/html": [
       "<div>\n",
       "<style scoped>\n",
       "    .dataframe tbody tr th:only-of-type {\n",
       "        vertical-align: middle;\n",
       "    }\n",
       "\n",
       "    .dataframe tbody tr th {\n",
       "        vertical-align: top;\n",
       "    }\n",
       "\n",
       "    .dataframe thead th {\n",
       "        text-align: right;\n",
       "    }\n",
       "</style>\n",
       "<table border=\"1\" class=\"dataframe\">\n",
       "  <thead>\n",
       "    <tr style=\"text-align: right;\">\n",
       "      <th></th>\n",
       "      <th>Name</th>\n",
       "      <th>Region</th>\n",
       "      <th>state</th>\n",
       "      <th>summit_elev</th>\n",
       "      <th>vertical_drop</th>\n",
       "      <th>base_elev</th>\n",
       "      <th>trams</th>\n",
       "      <th>fastEight</th>\n",
       "      <th>fastSixes</th>\n",
       "      <th>fastQuads</th>\n",
       "      <th>quad</th>\n",
       "      <th>triple</th>\n",
       "      <th>double</th>\n",
       "      <th>surface</th>\n",
       "      <th>total_chairs</th>\n",
       "      <th>Runs</th>\n",
       "      <th>TerrainParks</th>\n",
       "      <th>LongestRun_mi</th>\n",
       "      <th>SkiableTerrain_ac</th>\n",
       "      <th>Snow Making_ac</th>\n",
       "      <th>daysOpenLastYear</th>\n",
       "      <th>yearsOpen</th>\n",
       "      <th>averageSnowfall</th>\n",
       "      <th>AdultWeekday</th>\n",
       "      <th>AdultWeekend</th>\n",
       "      <th>projectedDaysOpen</th>\n",
       "      <th>NightSkiing_ac</th>\n",
       "    </tr>\n",
       "  </thead>\n",
       "  <tbody>\n",
       "    <tr>\n",
       "      <th>0</th>\n",
       "      <td>Alyeska Resort</td>\n",
       "      <td>Alaska</td>\n",
       "      <td>Alaska</td>\n",
       "      <td>3939</td>\n",
       "      <td>2500</td>\n",
       "      <td>250</td>\n",
       "      <td>1</td>\n",
       "      <td>0.0</td>\n",
       "      <td>0</td>\n",
       "      <td>2</td>\n",
       "      <td>2</td>\n",
       "      <td>0</td>\n",
       "      <td>0</td>\n",
       "      <td>2</td>\n",
       "      <td>7</td>\n",
       "      <td>76.0</td>\n",
       "      <td>2.0</td>\n",
       "      <td>1.0</td>\n",
       "      <td>1610.0</td>\n",
       "      <td>113.0</td>\n",
       "      <td>150.0</td>\n",
       "      <td>60.0</td>\n",
       "      <td>669.0</td>\n",
       "      <td>65.0</td>\n",
       "      <td>85.0</td>\n",
       "      <td>150.0</td>\n",
       "      <td>550.0</td>\n",
       "    </tr>\n",
       "    <tr>\n",
       "      <th>1</th>\n",
       "      <td>Eaglecrest Ski Area</td>\n",
       "      <td>Alaska</td>\n",
       "      <td>Alaska</td>\n",
       "      <td>2600</td>\n",
       "      <td>1540</td>\n",
       "      <td>1200</td>\n",
       "      <td>0</td>\n",
       "      <td>0.0</td>\n",
       "      <td>0</td>\n",
       "      <td>0</td>\n",
       "      <td>0</td>\n",
       "      <td>0</td>\n",
       "      <td>4</td>\n",
       "      <td>0</td>\n",
       "      <td>4</td>\n",
       "      <td>36.0</td>\n",
       "      <td>1.0</td>\n",
       "      <td>2.0</td>\n",
       "      <td>640.0</td>\n",
       "      <td>60.0</td>\n",
       "      <td>45.0</td>\n",
       "      <td>44.0</td>\n",
       "      <td>350.0</td>\n",
       "      <td>47.0</td>\n",
       "      <td>53.0</td>\n",
       "      <td>90.0</td>\n",
       "      <td>NaN</td>\n",
       "    </tr>\n",
       "    <tr>\n",
       "      <th>2</th>\n",
       "      <td>Hilltop Ski Area</td>\n",
       "      <td>Alaska</td>\n",
       "      <td>Alaska</td>\n",
       "      <td>2090</td>\n",
       "      <td>294</td>\n",
       "      <td>1796</td>\n",
       "      <td>0</td>\n",
       "      <td>0.0</td>\n",
       "      <td>0</td>\n",
       "      <td>0</td>\n",
       "      <td>0</td>\n",
       "      <td>1</td>\n",
       "      <td>0</td>\n",
       "      <td>2</td>\n",
       "      <td>3</td>\n",
       "      <td>13.0</td>\n",
       "      <td>1.0</td>\n",
       "      <td>1.0</td>\n",
       "      <td>30.0</td>\n",
       "      <td>30.0</td>\n",
       "      <td>150.0</td>\n",
       "      <td>36.0</td>\n",
       "      <td>69.0</td>\n",
       "      <td>30.0</td>\n",
       "      <td>34.0</td>\n",
       "      <td>152.0</td>\n",
       "      <td>30.0</td>\n",
       "    </tr>\n",
       "    <tr>\n",
       "      <th>3</th>\n",
       "      <td>Arizona Snowbowl</td>\n",
       "      <td>Arizona</td>\n",
       "      <td>Arizona</td>\n",
       "      <td>11500</td>\n",
       "      <td>2300</td>\n",
       "      <td>9200</td>\n",
       "      <td>0</td>\n",
       "      <td>0.0</td>\n",
       "      <td>1</td>\n",
       "      <td>0</td>\n",
       "      <td>2</td>\n",
       "      <td>2</td>\n",
       "      <td>1</td>\n",
       "      <td>2</td>\n",
       "      <td>8</td>\n",
       "      <td>55.0</td>\n",
       "      <td>4.0</td>\n",
       "      <td>2.0</td>\n",
       "      <td>777.0</td>\n",
       "      <td>104.0</td>\n",
       "      <td>122.0</td>\n",
       "      <td>81.0</td>\n",
       "      <td>260.0</td>\n",
       "      <td>89.0</td>\n",
       "      <td>89.0</td>\n",
       "      <td>122.0</td>\n",
       "      <td>NaN</td>\n",
       "    </tr>\n",
       "    <tr>\n",
       "      <th>4</th>\n",
       "      <td>Sunrise Park Resort</td>\n",
       "      <td>Arizona</td>\n",
       "      <td>Arizona</td>\n",
       "      <td>11100</td>\n",
       "      <td>1800</td>\n",
       "      <td>9200</td>\n",
       "      <td>0</td>\n",
       "      <td>NaN</td>\n",
       "      <td>0</td>\n",
       "      <td>1</td>\n",
       "      <td>2</td>\n",
       "      <td>3</td>\n",
       "      <td>1</td>\n",
       "      <td>0</td>\n",
       "      <td>7</td>\n",
       "      <td>65.0</td>\n",
       "      <td>2.0</td>\n",
       "      <td>1.2</td>\n",
       "      <td>800.0</td>\n",
       "      <td>80.0</td>\n",
       "      <td>115.0</td>\n",
       "      <td>49.0</td>\n",
       "      <td>250.0</td>\n",
       "      <td>74.0</td>\n",
       "      <td>78.0</td>\n",
       "      <td>104.0</td>\n",
       "      <td>80.0</td>\n",
       "    </tr>\n",
       "  </tbody>\n",
       "</table>\n",
       "</div>"
      ],
      "text/plain": [
       "                  Name   Region    state  summit_elev  vertical_drop  \\\n",
       "0       Alyeska Resort   Alaska   Alaska         3939           2500   \n",
       "1  Eaglecrest Ski Area   Alaska   Alaska         2600           1540   \n",
       "2     Hilltop Ski Area   Alaska   Alaska         2090            294   \n",
       "3     Arizona Snowbowl  Arizona  Arizona        11500           2300   \n",
       "4  Sunrise Park Resort  Arizona  Arizona        11100           1800   \n",
       "\n",
       "   base_elev  trams  fastEight  fastSixes  fastQuads  quad  triple  double  \\\n",
       "0        250      1        0.0          0          2     2       0       0   \n",
       "1       1200      0        0.0          0          0     0       0       4   \n",
       "2       1796      0        0.0          0          0     0       1       0   \n",
       "3       9200      0        0.0          1          0     2       2       1   \n",
       "4       9200      0        NaN          0          1     2       3       1   \n",
       "\n",
       "   surface  total_chairs  Runs  TerrainParks  LongestRun_mi  \\\n",
       "0        2             7  76.0           2.0            1.0   \n",
       "1        0             4  36.0           1.0            2.0   \n",
       "2        2             3  13.0           1.0            1.0   \n",
       "3        2             8  55.0           4.0            2.0   \n",
       "4        0             7  65.0           2.0            1.2   \n",
       "\n",
       "   SkiableTerrain_ac  Snow Making_ac  daysOpenLastYear  yearsOpen  \\\n",
       "0             1610.0           113.0             150.0       60.0   \n",
       "1              640.0            60.0              45.0       44.0   \n",
       "2               30.0            30.0             150.0       36.0   \n",
       "3              777.0           104.0             122.0       81.0   \n",
       "4              800.0            80.0             115.0       49.0   \n",
       "\n",
       "   averageSnowfall  AdultWeekday  AdultWeekend  projectedDaysOpen  \\\n",
       "0            669.0          65.0          85.0              150.0   \n",
       "1            350.0          47.0          53.0               90.0   \n",
       "2             69.0          30.0          34.0              152.0   \n",
       "3            260.0          89.0          89.0              122.0   \n",
       "4            250.0          74.0          78.0              104.0   \n",
       "\n",
       "   NightSkiing_ac  \n",
       "0           550.0  \n",
       "1             NaN  \n",
       "2            30.0  \n",
       "3             NaN  \n",
       "4            80.0  "
      ]
     },
     "execution_count": 4,
     "metadata": {},
     "output_type": "execute_result"
    }
   ],
   "source": [
    "skidata.head()"
   ]
  },
  {
   "cell_type": "code",
   "execution_count": 5,
   "metadata": {},
   "outputs": [
    {
     "data": {
      "text/plain": [
       "Index(['Name', 'Region', 'state', 'summit_elev', 'vertical_drop', 'base_elev',\n",
       "       'trams', 'fastEight', 'fastSixes', 'fastQuads', 'quad', 'triple',\n",
       "       'double', 'surface', 'total_chairs', 'Runs', 'TerrainParks',\n",
       "       'LongestRun_mi', 'SkiableTerrain_ac', 'Snow Making_ac',\n",
       "       'daysOpenLastYear', 'yearsOpen', 'averageSnowfall', 'AdultWeekday',\n",
       "       'AdultWeekend', 'projectedDaysOpen', 'NightSkiing_ac'],\n",
       "      dtype='object')"
      ]
     },
     "execution_count": 5,
     "metadata": {},
     "output_type": "execute_result"
    }
   ],
   "source": [
    "skidata.columns"
   ]
  },
  {
   "cell_type": "code",
   "execution_count": 6,
   "metadata": {
    "scrolled": true
   },
   "outputs": [
    {
     "name": "stdout",
     "output_type": "stream",
     "text": [
      "<class 'pandas.core.frame.DataFrame'>\n",
      "RangeIndex: 330 entries, 0 to 329\n",
      "Data columns (total 27 columns):\n",
      " #   Column             Non-Null Count  Dtype  \n",
      "---  ------             --------------  -----  \n",
      " 0   Name               330 non-null    object \n",
      " 1   Region             330 non-null    object \n",
      " 2   state              330 non-null    object \n",
      " 3   summit_elev        330 non-null    int64  \n",
      " 4   vertical_drop      330 non-null    int64  \n",
      " 5   base_elev          330 non-null    int64  \n",
      " 6   trams              330 non-null    int64  \n",
      " 7   fastEight          164 non-null    float64\n",
      " 8   fastSixes          330 non-null    int64  \n",
      " 9   fastQuads          330 non-null    int64  \n",
      " 10  quad               330 non-null    int64  \n",
      " 11  triple             330 non-null    int64  \n",
      " 12  double             330 non-null    int64  \n",
      " 13  surface            330 non-null    int64  \n",
      " 14  total_chairs       330 non-null    int64  \n",
      " 15  Runs               326 non-null    float64\n",
      " 16  TerrainParks       279 non-null    float64\n",
      " 17  LongestRun_mi      325 non-null    float64\n",
      " 18  SkiableTerrain_ac  327 non-null    float64\n",
      " 19  Snow Making_ac     284 non-null    float64\n",
      " 20  daysOpenLastYear   279 non-null    float64\n",
      " 21  yearsOpen          329 non-null    float64\n",
      " 22  averageSnowfall    316 non-null    float64\n",
      " 23  AdultWeekday       276 non-null    float64\n",
      " 24  AdultWeekend       279 non-null    float64\n",
      " 25  projectedDaysOpen  283 non-null    float64\n",
      " 26  NightSkiing_ac     187 non-null    float64\n",
      "dtypes: float64(13), int64(11), object(3)\n",
      "memory usage: 69.7+ KB\n"
     ]
    }
   ],
   "source": [
    "skidata.info()"
   ]
  },
  {
   "cell_type": "markdown",
   "metadata": {},
   "source": [
    "# Clean Data "
   ]
  },
  {
   "cell_type": "code",
   "execution_count": 7,
   "metadata": {},
   "outputs": [
    {
     "data": {
      "text/plain": [
       "['Alyeska Resort',\n",
       " 'Eaglecrest Ski Area',\n",
       " 'Hilltop Ski Area',\n",
       " 'Arizona Snowbowl',\n",
       " 'Sunrise Park Resort',\n",
       " 'Yosemite Ski & Snowboard Area',\n",
       " 'Bear Mountain',\n",
       " 'Bear Valley',\n",
       " 'Boreal Mountain Resort',\n",
       " 'Dodge Ridge',\n",
       " 'Donner Ski Ranch',\n",
       " 'Heavenly Mountain Resort',\n",
       " 'June Mountain',\n",
       " 'Kirkwood',\n",
       " 'Mammoth Mountain Ski Area',\n",
       " 'Mt. Shasta Ski Park',\n",
       " 'Mountain High',\n",
       " 'Mt. Baldy',\n",
       " 'Northstar California',\n",
       " 'Sierra-at-Tahoe',\n",
       " 'Ski China Peak',\n",
       " 'Snow Summit',\n",
       " 'Snow Valley',\n",
       " 'Soda Springs',\n",
       " 'Sugar Bowl Resort',\n",
       " 'Tahoe Donner',\n",
       " 'Arapahoe Basin Ski Area',\n",
       " 'Aspen / Snowmass',\n",
       " 'Beaver Creek',\n",
       " 'Breckenridge',\n",
       " 'Copper Mountain Resort',\n",
       " 'Crested Butte Mountain Resort',\n",
       " 'Purgatory',\n",
       " 'Eldora Mountain Resort',\n",
       " 'Howelsen Hill',\n",
       " 'Keystone',\n",
       " 'Loveland',\n",
       " 'Monarch Mountain',\n",
       " 'Powderhorn',\n",
       " 'Silverton Mountain',\n",
       " 'Cooper',\n",
       " 'Ski Granby Ranch',\n",
       " 'Steamboat',\n",
       " 'Sunlight Mountain Resort',\n",
       " 'Telluride',\n",
       " 'Vail',\n",
       " 'Winter Park Resort',\n",
       " 'Wolf Creek Ski Area',\n",
       " 'Mohawk Mountain',\n",
       " 'Mount Southington Ski Area',\n",
       " 'Powder Ridge Park',\n",
       " 'Ski Sundown',\n",
       " 'Woodbury Ski Area',\n",
       " 'Bogus Basin',\n",
       " 'Brundage Mountain Resort',\n",
       " 'Kelly Canyon Ski Area',\n",
       " 'Lookout Pass Ski Area',\n",
       " 'Magic Mountain Ski Area',\n",
       " 'Pebble Creek Ski Area',\n",
       " 'Pomerelle Mountain Resort',\n",
       " 'Schweitzer',\n",
       " 'Silver Mountain',\n",
       " 'Soldier Mountain Ski Area',\n",
       " 'Sun Valley',\n",
       " 'Tamarack Resort',\n",
       " 'Chestnut Mountain Resort',\n",
       " 'Four Lakes',\n",
       " 'Ski Snowstar Winter Sports Park',\n",
       " 'Villa Olivia',\n",
       " 'Paoli Peaks',\n",
       " 'Perfect North Slopes',\n",
       " 'Mt. Crescent Ski Area',\n",
       " 'Seven Oaks',\n",
       " 'Sundown Mountain',\n",
       " 'Big Squaw Mountain Ski Resort',\n",
       " 'Camden Snow Bowl',\n",
       " 'Lost Valley',\n",
       " 'Mt. Abram Ski Resort',\n",
       " 'Mt. Jefferson',\n",
       " 'New Hermon Mountain',\n",
       " 'Shawnee Peak',\n",
       " 'Sugarloaf',\n",
       " 'Sunday River',\n",
       " 'Wisp',\n",
       " 'Berkshire East',\n",
       " 'Blandford Ski Area',\n",
       " 'Blue Hills Ski Area',\n",
       " 'Bousquet Ski Area',\n",
       " 'Bradford Ski Area',\n",
       " 'Jiminy Peak',\n",
       " 'Nashoba Valley',\n",
       " 'Otis Ridge Ski Area',\n",
       " 'Ski Butternut',\n",
       " 'Ski Ward',\n",
       " 'Wachusett Mountain Ski Area',\n",
       " 'Alpine Valley Ski Area',\n",
       " 'Apple Mountain',\n",
       " 'Big Powderhorn Mountain',\n",
       " 'Bittersweet Ski Area',\n",
       " 'Big Snow Resort - Blackjack',\n",
       " 'Boyne Highlands',\n",
       " 'Boyne Mountain Resort',\n",
       " 'Caberfae Peaks',\n",
       " 'Cannonsburg',\n",
       " 'Crystal Mountain',\n",
       " 'Big Snow Resort - Indianhead Mountain',\n",
       " 'Marquette Mountain',\n",
       " 'Mont Ripley',\n",
       " 'Mount Bohemia',\n",
       " 'Mt. Brighton',\n",
       " 'Mt. Holiday Ski Area',\n",
       " 'Mount Holly',\n",
       " \"Mulligan's Hollow Ski Bowl\",\n",
       " 'Norway Mountain',\n",
       " 'Nubs Nob Ski Area',\n",
       " 'Pine Knob Ski Resort',\n",
       " 'Pine Mountain',\n",
       " 'Schuss Mountain at Shanty Creek',\n",
       " 'Ski Brule',\n",
       " 'Snow Snake Mountain Ski Area',\n",
       " 'Swiss Valley',\n",
       " 'The Homestead',\n",
       " 'Timber Ridge',\n",
       " 'Treetops Resort',\n",
       " 'Afton Alps',\n",
       " 'Andes Tower Hills Ski Area',\n",
       " 'Buck Hill',\n",
       " 'Buena Vista Ski Area',\n",
       " 'Coffee Mill Ski & Snowboard Resort',\n",
       " 'Elm Creek Winter Recreation Area',\n",
       " 'Giants Ridge Resort',\n",
       " 'Hyland Ski & Snowboard Area',\n",
       " 'Lutsen Mountains',\n",
       " 'Mount Kato Ski Area',\n",
       " 'Powder Ridge Ski Area',\n",
       " 'Spirit Mountain',\n",
       " 'Welch Village',\n",
       " 'Wild Mountain Ski & Snowboard Area',\n",
       " 'Hidden Valley Ski Area',\n",
       " 'Snow Creek',\n",
       " 'Big Sky Resort',\n",
       " 'Blacktail Mountain Ski Area',\n",
       " 'Bridger Bowl',\n",
       " 'Discovery Ski Area',\n",
       " 'Great Divide',\n",
       " 'Lost Trail - Powder Mtn',\n",
       " 'Maverick Mountain',\n",
       " 'Montana Snowbowl',\n",
       " 'Red Lodge Mountain',\n",
       " 'Showdown Montana',\n",
       " 'Teton Pass Ski Resort',\n",
       " 'Big Mountain Resort',\n",
       " 'Diamond Peak',\n",
       " 'Elko SnoBowl',\n",
       " 'Lee Canyon',\n",
       " 'Mt. Rose - Ski Tahoe',\n",
       " 'Attitash',\n",
       " 'Black Mountain',\n",
       " 'Bretton Woods',\n",
       " 'Cannon Mountain',\n",
       " 'Cranmore Mountain Resort',\n",
       " 'Crotched Mountain',\n",
       " 'Dartmouth Skiway',\n",
       " 'Gunstock',\n",
       " 'King Pine',\n",
       " 'Loon Mountain',\n",
       " 'Mount Sunapee',\n",
       " 'Pats Peak',\n",
       " 'Ragged Mountain Resort',\n",
       " 'Waterville Valley',\n",
       " 'Whaleback Mountain',\n",
       " 'Wildcat Mountain',\n",
       " 'Campgaw Mountain',\n",
       " 'Mountain Creek Resort',\n",
       " 'Angel Fire Resort',\n",
       " 'Enchanted Forest Ski Area',\n",
       " 'Pajarito Mountain Ski Area',\n",
       " 'Red River',\n",
       " 'Sandia Peak',\n",
       " 'Sipapu Ski Resort',\n",
       " 'Ski Apache',\n",
       " 'Ski Santa Fe',\n",
       " 'Taos Ski Valley',\n",
       " 'Belleayre',\n",
       " 'Brantling Ski Slopes',\n",
       " 'Bristol Mountain',\n",
       " 'Buffalo Ski Club Ski Area',\n",
       " 'Catamount',\n",
       " 'Dry Hill Ski Area',\n",
       " 'Gore Mountain',\n",
       " 'Greek Peak',\n",
       " 'Holiday Mountain',\n",
       " 'Holiday Valley',\n",
       " 'Holimont Ski Area',\n",
       " 'Hunt Hollow Ski Club',\n",
       " 'Hunter Mountain',\n",
       " 'Kissing Bridge',\n",
       " 'Labrador Mt.',\n",
       " 'Maple Ski Ridge',\n",
       " 'McCauley Mountain Ski Center',\n",
       " 'Mount Peter Ski Area',\n",
       " 'Oak Mountain',\n",
       " \"Peek'n Peak\",\n",
       " 'Plattekill Mountain',\n",
       " 'Royal Mountain Ski Area',\n",
       " 'Snow Ridge',\n",
       " 'Song Mountain',\n",
       " 'Swain',\n",
       " 'Thunder Ridge',\n",
       " 'Titus Mountain',\n",
       " 'Toggenburg Mountain',\n",
       " 'West Mountain',\n",
       " 'Whiteface Mountain Resort',\n",
       " 'Willard Mountain',\n",
       " 'Windham Mountain',\n",
       " 'Woods Valley Ski Area',\n",
       " 'Appalachian Ski Mountain',\n",
       " 'Cataloochee Ski Area',\n",
       " 'Sapphire Valley',\n",
       " 'Beech Mountain Resort',\n",
       " 'Sugar Mountain Resort',\n",
       " 'Wolf Ridge Ski Resort',\n",
       " 'Alpine Valley',\n",
       " 'Boston Mills',\n",
       " 'Brandywine',\n",
       " 'Mad River Mountain',\n",
       " 'Snow Trails',\n",
       " 'Anthony Lakes Mountain Resort',\n",
       " 'Cooper Spur',\n",
       " 'Hoodoo Ski Area',\n",
       " 'Mt. Ashland',\n",
       " 'Mt. Bachelor',\n",
       " 'Mt. Hood Meadows',\n",
       " 'Mt. Hood Skibowl',\n",
       " 'Spout Springs',\n",
       " 'Timberline Lodge',\n",
       " 'Willamette Pass',\n",
       " 'Bear Creek Mountain Resort',\n",
       " 'Ski Big Bear',\n",
       " 'Big Boulder',\n",
       " 'Blue Knob',\n",
       " 'Blue Mountain Resort',\n",
       " 'Camelback Mountain Resort',\n",
       " 'Eagle Rock',\n",
       " 'Elk Mountain Ski Resort',\n",
       " 'Jack Frost',\n",
       " 'Liberty',\n",
       " 'Mount Pleasant of Edinboro',\n",
       " 'Roundtop Mountain Resort',\n",
       " 'Seven Springs',\n",
       " 'Shawnee Mountain Ski Area',\n",
       " 'Ski Sawmill',\n",
       " 'Montage Mountain',\n",
       " 'Spring Mountain Ski Area',\n",
       " 'Tussey Mountain',\n",
       " 'Whitetail Resort',\n",
       " 'Yawgoo Valley',\n",
       " 'Deer Mountain Ski Resort',\n",
       " 'Terry Peak Ski Area',\n",
       " 'Ober Gatlinburg Ski Resort',\n",
       " 'Alta Ski Area',\n",
       " 'Beaver Mountain',\n",
       " 'Brian Head Resort',\n",
       " 'Brighton Resort',\n",
       " 'Deer Valley Resort',\n",
       " 'Eagle Point',\n",
       " 'Park City',\n",
       " 'Powder Mountain',\n",
       " 'Snowbasin',\n",
       " 'Snowbird',\n",
       " 'Solitude Mountain Resort',\n",
       " 'Sundance',\n",
       " 'Nordic Valley Resort',\n",
       " 'Bolton Valley',\n",
       " 'Bromley Mountain',\n",
       " 'Burke Mountain',\n",
       " 'Jay Peak',\n",
       " 'Killington Resort',\n",
       " 'Mad River Glen',\n",
       " 'Magic Mountain',\n",
       " 'Mount Snow',\n",
       " 'Okemo Mountain Resort',\n",
       " 'Pico Mountain',\n",
       " \"Smugglers' Notch Resort\",\n",
       " 'Stowe Mountain Resort',\n",
       " 'Stratton Mountain',\n",
       " 'Sugarbush',\n",
       " 'Suicide Six',\n",
       " 'Bryce Resort',\n",
       " 'Massanutten',\n",
       " 'The Homestead Ski Area',\n",
       " 'Wintergreen Resort',\n",
       " '49 Degrees North',\n",
       " 'Alpental',\n",
       " 'Bluewood',\n",
       " 'Crystal Mountain',\n",
       " 'Mission Ridge',\n",
       " 'Mt. Baker',\n",
       " 'Mt. Spokane Ski and Snowboard Park',\n",
       " 'Stevens Pass Resort',\n",
       " 'The Summit at Snoqualmie',\n",
       " 'White Pass',\n",
       " 'Canaan Valley Resort',\n",
       " 'Snowshoe Mountain Resort',\n",
       " 'Timberline Four Seasons',\n",
       " 'Winterplace Ski Resort',\n",
       " 'Alpine Valley Resort',\n",
       " 'Bruce Mound',\n",
       " 'Cascade Mountain',\n",
       " 'Christie Mountain',\n",
       " 'Christmas Mountain',\n",
       " 'Devils Head',\n",
       " 'Grand Geneva',\n",
       " 'Granite Peak Ski Area',\n",
       " 'Little Switzerland',\n",
       " 'Mount La Crosse',\n",
       " 'Nordic Mountain',\n",
       " 'Sunburst',\n",
       " 'Trollhaugen',\n",
       " 'Tyrol Basin',\n",
       " 'Whitecap Mountain',\n",
       " 'Wilmot Mountain',\n",
       " 'Grand Targhee Resort',\n",
       " 'Hogadon Basin',\n",
       " 'Jackson Hole',\n",
       " 'Meadowlark Ski Lodge',\n",
       " 'Sleeping Giant Ski Resort',\n",
       " 'Snow King Resort',\n",
       " 'Snowy Range Ski & Recreation Area',\n",
       " 'White Pine Ski Area']"
      ]
     },
     "execution_count": 7,
     "metadata": {},
     "output_type": "execute_result"
    }
   ],
   "source": [
    "[item for item in skidata['Name']]"
   ]
  },
  {
   "cell_type": "code",
   "execution_count": 8,
   "metadata": {},
   "outputs": [
    {
     "data": {
      "text/plain": [
       "New York               33\n",
       "Michigan               29\n",
       "Sierra Nevada          22\n",
       "Colorado               22\n",
       "Pennsylvania           19\n",
       "Wisconsin              16\n",
       "New Hampshire          16\n",
       "Vermont                15\n",
       "Minnesota              14\n",
       "Idaho                  12\n",
       "Montana                12\n",
       "Massachusetts          11\n",
       "Washington             10\n",
       "Maine                   9\n",
       "New Mexico              9\n",
       "Wyoming                 8\n",
       "Utah                    7\n",
       "Salt Lake City          6\n",
       "North Carolina          6\n",
       "Oregon                  6\n",
       "Ohio                    5\n",
       "Connecticut             5\n",
       "Virginia                4\n",
       "West Virginia           4\n",
       "Illinois                4\n",
       "Mt. Hood                4\n",
       "Iowa                    3\n",
       "Alaska                  3\n",
       "Indiana                 2\n",
       "Arizona                 2\n",
       "South Dakota            2\n",
       "New Jersey              2\n",
       "Nevada                  2\n",
       "Missouri                2\n",
       "Northern California     1\n",
       "Rhode Island            1\n",
       "Maryland                1\n",
       "Tennessee               1\n",
       "Name: Region, dtype: int64"
      ]
     },
     "execution_count": 8,
     "metadata": {},
     "output_type": "execute_result"
    }
   ],
   "source": [
    "skidata['Region'].value_counts()"
   ]
  },
  {
   "cell_type": "code",
   "execution_count": 9,
   "metadata": {},
   "outputs": [
    {
     "data": {
      "text/plain": [
       "New York          33\n",
       "Michigan          29\n",
       "Colorado          22\n",
       "California        21\n",
       "Pennsylvania      19\n",
       "New Hampshire     16\n",
       "Wisconsin         16\n",
       "Vermont           15\n",
       "Minnesota         14\n",
       "Utah              13\n",
       "Idaho             12\n",
       "Montana           12\n",
       "Massachusetts     11\n",
       "Washington        10\n",
       "Oregon            10\n",
       "Maine              9\n",
       "New Mexico         9\n",
       "Wyoming            8\n",
       "North Carolina     6\n",
       "Connecticut        5\n",
       "Ohio               5\n",
       "West Virginia      4\n",
       "Virginia           4\n",
       "Nevada             4\n",
       "Illinois           4\n",
       "Iowa               3\n",
       "Alaska             3\n",
       "Arizona            2\n",
       "New Jersey         2\n",
       "South Dakota       2\n",
       "Indiana            2\n",
       "Missouri           2\n",
       "Tennessee          1\n",
       "Rhode Island       1\n",
       "Maryland           1\n",
       "Name: state, dtype: int64"
      ]
     },
     "execution_count": 9,
     "metadata": {},
     "output_type": "execute_result"
    }
   ],
   "source": [
    "skidata['state'].value_counts()"
   ]
  },
  {
   "cell_type": "code",
   "execution_count": 10,
   "metadata": {},
   "outputs": [
    {
     "data": {
      "text/plain": [
       "count      330.000000\n",
       "mean      4591.818182\n",
       "std       3735.535934\n",
       "min        315.000000\n",
       "25%       1403.750000\n",
       "50%       3127.500000\n",
       "75%       7806.000000\n",
       "max      13487.000000\n",
       "Name: summit_elev, dtype: float64"
      ]
     },
     "execution_count": 10,
     "metadata": {},
     "output_type": "execute_result"
    }
   ],
   "source": [
    "skidata['summit_elev'].describe()"
   ]
  },
  {
   "cell_type": "code",
   "execution_count": 11,
   "metadata": {},
   "outputs": [
    {
     "data": {
      "text/plain": [
       "count     330.000000\n",
       "mean     1215.427273\n",
       "std       947.864557\n",
       "min        60.000000\n",
       "25%       461.250000\n",
       "50%       964.500000\n",
       "75%      1800.000000\n",
       "max      4425.000000\n",
       "Name: vertical_drop, dtype: float64"
      ]
     },
     "execution_count": 11,
     "metadata": {},
     "output_type": "execute_result"
    }
   ],
   "source": [
    "skidata['vertical_drop'].describe()"
   ]
  },
  {
   "cell_type": "code",
   "execution_count": 12,
   "metadata": {},
   "outputs": [
    {
     "data": {
      "text/plain": [
       "count      330.000000\n",
       "mean      3374.000000\n",
       "std       3117.121621\n",
       "min         70.000000\n",
       "25%        869.000000\n",
       "50%       1561.500000\n",
       "75%       6325.250000\n",
       "max      10800.000000\n",
       "Name: base_elev, dtype: float64"
      ]
     },
     "execution_count": 12,
     "metadata": {},
     "output_type": "execute_result"
    }
   ],
   "source": [
    "skidata['base_elev'].describe()"
   ]
  },
  {
   "cell_type": "code",
   "execution_count": 13,
   "metadata": {},
   "outputs": [
    {
     "data": {
      "text/plain": [
       "0    293\n",
       "1     24\n",
       "2      7\n",
       "3      5\n",
       "4      1\n",
       "Name: trams, dtype: int64"
      ]
     },
     "execution_count": 13,
     "metadata": {},
     "output_type": "execute_result"
    }
   ],
   "source": [
    "skidata['trams'].value_counts()"
   ]
  },
  {
   "cell_type": "code",
   "execution_count": 14,
   "metadata": {},
   "outputs": [
    {
     "data": {
      "text/plain": [
       "0.0    163\n",
       "1.0      1\n",
       "Name: fastEight, dtype: int64"
      ]
     },
     "execution_count": 14,
     "metadata": {},
     "output_type": "execute_result"
    }
   ],
   "source": [
    "skidata['fastEight'].value_counts()"
   ]
  },
  {
   "cell_type": "code",
   "execution_count": 15,
   "metadata": {},
   "outputs": [
    {
     "data": {
      "text/plain": [
       "0    294\n",
       "1     21\n",
       "2     11\n",
       "6      1\n",
       "5      1\n",
       "4      1\n",
       "3      1\n",
       "Name: fastSixes, dtype: int64"
      ]
     },
     "execution_count": 15,
     "metadata": {},
     "output_type": "execute_result"
    }
   ],
   "source": [
    "skidata['fastSixes'].value_counts()"
   ]
  },
  {
   "cell_type": "code",
   "execution_count": 16,
   "metadata": {},
   "outputs": [
    {
     "data": {
      "text/plain": [
       "0     222\n",
       "1      35\n",
       "2      29\n",
       "3      15\n",
       "4       8\n",
       "6       5\n",
       "5       5\n",
       "7       3\n",
       "15      2\n",
       "9       2\n",
       "13      1\n",
       "11      1\n",
       "10      1\n",
       "8       1\n",
       "Name: fastQuads, dtype: int64"
      ]
     },
     "execution_count": 16,
     "metadata": {},
     "output_type": "execute_result"
    }
   ],
   "source": [
    "skidata['fastQuads'].value_counts()"
   ]
  },
  {
   "cell_type": "code",
   "execution_count": 17,
   "metadata": {},
   "outputs": [
    {
     "data": {
      "text/plain": [
       "0    171\n",
       "1     78\n",
       "2     43\n",
       "3     22\n",
       "4      8\n",
       "5      6\n",
       "8      2\n",
       "Name: quad, dtype: int64"
      ]
     },
     "execution_count": 17,
     "metadata": {},
     "output_type": "execute_result"
    }
   ],
   "source": [
    "skidata['quad'].value_counts()"
   ]
  },
  {
   "cell_type": "code",
   "execution_count": 18,
   "metadata": {},
   "outputs": [
    {
     "data": {
      "text/plain": [
       "0    106\n",
       "1     99\n",
       "2     53\n",
       "3     37\n",
       "4     14\n",
       "5      9\n",
       "6      7\n",
       "7      4\n",
       "8      1\n",
       "Name: triple, dtype: int64"
      ]
     },
     "execution_count": 18,
     "metadata": {},
     "output_type": "execute_result"
    }
   ],
   "source": [
    "skidata['triple'].value_counts() "
   ]
  },
  {
   "cell_type": "code",
   "execution_count": 19,
   "metadata": {},
   "outputs": [
    {
     "data": {
      "text/plain": [
       "1     89\n",
       "0     82\n",
       "2     70\n",
       "3     34\n",
       "4     25\n",
       "5     21\n",
       "6      6\n",
       "14     1\n",
       "10     1\n",
       "9      1\n",
       "Name: double, dtype: int64"
      ]
     },
     "execution_count": 19,
     "metadata": {},
     "output_type": "execute_result"
    }
   ],
   "source": [
    "skidata['double'].value_counts() "
   ]
  },
  {
   "cell_type": "code",
   "execution_count": 20,
   "metadata": {},
   "outputs": [
    {
     "data": {
      "text/plain": [
       "2     98\n",
       "1     73\n",
       "3     59\n",
       "0     26\n",
       "4     24\n",
       "5     22\n",
       "6     10\n",
       "7      7\n",
       "9      5\n",
       "8      4\n",
       "15     1\n",
       "12     1\n",
       "Name: surface, dtype: int64"
      ]
     },
     "execution_count": 20,
     "metadata": {},
     "output_type": "execute_result"
    }
   ],
   "source": [
    "skidata['surface'].value_counts() "
   ]
  },
  {
   "cell_type": "code",
   "execution_count": 21,
   "metadata": {},
   "outputs": [
    {
     "data": {
      "text/plain": [
       "count    330.000000\n",
       "mean       8.266667\n",
       "std        5.798683\n",
       "min        0.000000\n",
       "25%        5.000000\n",
       "50%        7.000000\n",
       "75%       10.000000\n",
       "max       41.000000\n",
       "Name: total_chairs, dtype: float64"
      ]
     },
     "execution_count": 21,
     "metadata": {},
     "output_type": "execute_result"
    }
   ],
   "source": [
    "skidata['total_chairs'].describe() "
   ]
  },
  {
   "cell_type": "code",
   "execution_count": 22,
   "metadata": {},
   "outputs": [
    {
     "data": {
      "text/plain": [
       "count    326.000000\n",
       "mean      48.214724\n",
       "std       46.364077\n",
       "min        3.000000\n",
       "25%       19.000000\n",
       "50%       33.000000\n",
       "75%       60.000000\n",
       "max      341.000000\n",
       "Name: Runs, dtype: float64"
      ]
     },
     "execution_count": 22,
     "metadata": {},
     "output_type": "execute_result"
    }
   ],
   "source": [
    "skidata['Runs'].describe()"
   ]
  },
  {
   "cell_type": "code",
   "execution_count": 23,
   "metadata": {},
   "outputs": [
    {
     "data": {
      "text/plain": [
       "1.0     81\n",
       "2.0     76\n",
       "3.0     46\n",
       "4.0     31\n",
       "5.0     17\n",
       "6.0     12\n",
       "7.0      6\n",
       "8.0      4\n",
       "9.0      3\n",
       "10.0     2\n",
       "14.0     1\n",
       "Name: TerrainParks, dtype: int64"
      ]
     },
     "execution_count": 23,
     "metadata": {},
     "output_type": "execute_result"
    }
   ],
   "source": [
    "skidata['TerrainParks'].value_counts() "
   ]
  },
  {
   "cell_type": "code",
   "execution_count": 24,
   "metadata": {},
   "outputs": [
    {
     "data": {
      "text/plain": [
       "count    325.000000\n",
       "mean       1.433231\n",
       "std        1.156171\n",
       "min        0.000000\n",
       "25%        0.500000\n",
       "50%        1.000000\n",
       "75%        2.000000\n",
       "max        6.000000\n",
       "Name: LongestRun_mi, dtype: float64"
      ]
     },
     "execution_count": 24,
     "metadata": {},
     "output_type": "execute_result"
    }
   ],
   "source": [
    "skidata['LongestRun_mi'].describe()"
   ]
  },
  {
   "cell_type": "code",
   "execution_count": 25,
   "metadata": {},
   "outputs": [
    {
     "data": {
      "text/plain": [
       "count      327.000000\n",
       "mean       739.801223\n",
       "std       1816.167441\n",
       "min          8.000000\n",
       "25%         85.000000\n",
       "50%        200.000000\n",
       "75%        690.000000\n",
       "max      26819.000000\n",
       "Name: SkiableTerrain_ac, dtype: float64"
      ]
     },
     "execution_count": 25,
     "metadata": {},
     "output_type": "execute_result"
    }
   ],
   "source": [
    "skidata['SkiableTerrain_ac'].describe()"
   ]
  },
  {
   "cell_type": "code",
   "execution_count": 26,
   "metadata": {},
   "outputs": [
    {
     "data": {
      "text/plain": [
       "count     284.000000\n",
       "mean      174.873239\n",
       "std       261.336125\n",
       "min         2.000000\n",
       "25%        50.000000\n",
       "50%       100.000000\n",
       "75%       200.500000\n",
       "max      3379.000000\n",
       "Name: Snow Making_ac, dtype: float64"
      ]
     },
     "execution_count": 26,
     "metadata": {},
     "output_type": "execute_result"
    }
   ],
   "source": [
    "skidata['Snow Making_ac'].describe()"
   ]
  },
  {
   "cell_type": "code",
   "execution_count": 27,
   "metadata": {},
   "outputs": [
    {
     "data": {
      "text/plain": [
       "count    279.000000\n",
       "mean     115.103943\n",
       "std       35.063251\n",
       "min        3.000000\n",
       "25%       97.000000\n",
       "50%      114.000000\n",
       "75%      135.000000\n",
       "max      305.000000\n",
       "Name: daysOpenLastYear, dtype: float64"
      ]
     },
     "execution_count": 27,
     "metadata": {},
     "output_type": "execute_result"
    }
   ],
   "source": [
    "skidata['daysOpenLastYear'].describe()"
   ]
  },
  {
   "cell_type": "code",
   "execution_count": 28,
   "metadata": {},
   "outputs": [
    {
     "data": {
      "text/plain": [
       "[(0, 60.0),\n",
       " (1, 44.0),\n",
       " (2, 36.0),\n",
       " (3, 81.0),\n",
       " (4, 49.0),\n",
       " (5, 84.0),\n",
       " (6, 76.0),\n",
       " (7, 52.0),\n",
       " (8, 54.0),\n",
       " (9, 69.0),\n",
       " (10, 82.0),\n",
       " (11, 64.0),\n",
       " (12, 58.0),\n",
       " (13, 47.0),\n",
       " (14, 66.0),\n",
       " (15, 34.0),\n",
       " (16, 95.0),\n",
       " (17, 67.0),\n",
       " (18, 47.0),\n",
       " (19, 73.0),\n",
       " (20, 62.0),\n",
       " (21, 67.0),\n",
       " (22, 82.0),\n",
       " (23, 83.0),\n",
       " (24, 80.0),\n",
       " (25, 48.0),\n",
       " (26, 73.0),\n",
       " (27, 72.0),\n",
       " (28, 39.0),\n",
       " (29, 58.0),\n",
       " (30, 47.0),\n",
       " (31, 58.0),\n",
       " (32, 54.0),\n",
       " (33, 57.0),\n",
       " (34, 104.0),\n",
       " (35, 49.0),\n",
       " (36, 82.0),\n",
       " (37, 80.0),\n",
       " (38, 53.0),\n",
       " (39, 17.0),\n",
       " (40, 74.0),\n",
       " (41, 36.0),\n",
       " (42, 56.0),\n",
       " (43, 53.0),\n",
       " (44, 47.0),\n",
       " (45, 57.0),\n",
       " (46, 79.0),\n",
       " (47, 80.0),\n",
       " (48, 72.0),\n",
       " (49, 55.0),\n",
       " (50, 60.0),\n",
       " (51, 50.0),\n",
       " (52, 57.0),\n",
       " (53, 77.0),\n",
       " (54, 58.0),\n",
       " (55, 62.0),\n",
       " (56, 84.0),\n",
       " (57, 81.0),\n",
       " (58, 70.0),\n",
       " (59, 56.0),\n",
       " (60, 56.0),\n",
       " (61, 29.0),\n",
       " (62, 71.0),\n",
       " (63, 83.0),\n",
       " (64, 15.0),\n",
       " (65, 60.0),\n",
       " (66, 58.0),\n",
       " (67, 38.0),\n",
       " (68, 53.0),\n",
       " (69, 41.0),\n",
       " (70, 39.0),\n",
       " (71, 58.0),\n",
       " (72, 22.0),\n",
       " (73, 46.0),\n",
       " (74, 6.0),\n",
       " (75, 83.0),\n",
       " (76, 58.0),\n",
       " (77, 59.0),\n",
       " (78, 19.0),\n",
       " (79, 55.0),\n",
       " (80, 81.0),\n",
       " (81, 68.0),\n",
       " (82, 60.0),\n",
       " (83, 64.0),\n",
       " (84, 68.0),\n",
       " (85, 83.0),\n",
       " (86, 19.0),\n",
       " (87, 19.0),\n",
       " (88, 71.0),\n",
       " (89, 71.0),\n",
       " (90, 55.0),\n",
       " (91, 73.0),\n",
       " (92, 56.0),\n",
       " (93, 50.0),\n",
       " (94, 57.0),\n",
       " (95, 57.0),\n",
       " (96, 58.0),\n",
       " (97, 55.0),\n",
       " (98, 36.0),\n",
       " (99, 42.0),\n",
       " (100, 56.0),\n",
       " (101, 71.0),\n",
       " (102, 82.0),\n",
       " (103, 54.0),\n",
       " (104, 63.0),\n",
       " (105, 60.0),\n",
       " (106, 60.0),\n",
       " (107, 83.0),\n",
       " (108, 19.0),\n",
       " (109, 59.0),\n",
       " (110, 70.0),\n",
       " (111, 63.0),\n",
       " (112, 19.0),\n",
       " (113, 45.0),\n",
       " (114, 61.0),\n",
       " (115, 2019.0),\n",
       " (116, 80.0),\n",
       " (117, 57.0),\n",
       " (118, 62.0),\n",
       " (119, 72.0),\n",
       " (120, 51.0),\n",
       " (121, 34.0),\n",
       " (122, 58.0),\n",
       " (123, 65.0),\n",
       " (124, 56.0),\n",
       " (125, 38.0),\n",
       " (126, 65.0),\n",
       " (127, 70.0),\n",
       " (128, 39.0),\n",
       " (129, 13.0),\n",
       " (130, 35.0),\n",
       " (131, 61.0),\n",
       " (132, 71.0),\n",
       " (133, 43.0),\n",
       " (134, 58.0),\n",
       " (135, 45.0),\n",
       " (136, 54.0),\n",
       " (137, 47.0),\n",
       " (138, 37.0),\n",
       " (139, 33.0),\n",
       " (140, 46.0),\n",
       " (141, 21.0),\n",
       " (142, 64.0),\n",
       " (143, 46.0),\n",
       " (144, 78.0),\n",
       " (145, 81.0),\n",
       " (146, 83.0),\n",
       " (147, 58.0),\n",
       " (148, 59.0),\n",
       " (149, 83.0),\n",
       " (150, 54.0),\n",
       " (151, 72.0),\n",
       " (152, 53.0),\n",
       " (153, 23.0),\n",
       " (154, 56.0),\n",
       " (155, 55.0),\n",
       " (156, 54.0),\n",
       " (157, 84.0),\n",
       " (158, 46.0),\n",
       " (159, 81.0),\n",
       " (160, 82.0),\n",
       " (161, 16.0),\n",
       " (162, 63.0),\n",
       " (163, 82.0),\n",
       " (164, 57.0),\n",
       " (165, 53.0),\n",
       " (166, 71.0),\n",
       " (167, 56.0),\n",
       " (168, 54.0),\n",
       " (169, 54.0),\n",
       " (170, 64.0),\n",
       " (171, 61.0),\n",
       " (172, 58.0),\n",
       " (173, 54.0),\n",
       " (174, 53.0),\n",
       " (175, 34.0),\n",
       " (176, 62.0),\n",
       " (177, 60.0),\n",
       " (178, 82.0),\n",
       " (179, 67.0),\n",
       " (180, 58.0),\n",
       " (181, 73.0),\n",
       " (182, 64.0),\n",
       " (183, 70.0),\n",
       " (184, 19.0),\n",
       " (185, 55.0),\n",
       " (186, 12.0),\n",
       " (187, 80.0),\n",
       " (188, 55.0),\n",
       " (189, 55.0),\n",
       " (190, 62.0),\n",
       " (191, 60.0),\n",
       " (192, 62.0),\n",
       " (193, 57.0),\n",
       " (194, 52.0),\n",
       " (195, 59.0),\n",
       " (196, 59.0),\n",
       " (197, 62.0),\n",
       " (198, 57.0),\n",
       " (199, 61.0),\n",
       " (200, 83.0),\n",
       " (201, 71.0),\n",
       " (202, 55.0),\n",
       " (203, 26.0),\n",
       " (204, 63.0),\n",
       " (205, 74.0),\n",
       " (206, 55.0),\n",
       " (207, 72.0),\n",
       " (208, 60.0),\n",
       " (209, 59.0),\n",
       " (210, 66.0),\n",
       " (211, 58.0),\n",
       " (212, 61.0),\n",
       " (213, 19.0),\n",
       " (214, 59.0),\n",
       " (215, 55.0),\n",
       " (216, 57.0),\n",
       " (217, 58.0),\n",
       " (218, 55.0),\n",
       " (219, 52.0),\n",
       " (220, 50.0),\n",
       " (221, 49.0),\n",
       " (222, 53.0),\n",
       " (223, 56.0),\n",
       " (224, 56.0),\n",
       " (225, 57.0),\n",
       " (226, 58.0),\n",
       " (227, 56.0),\n",
       " (228, 66.0),\n",
       " (229, 81.0),\n",
       " (230, 55.0),\n",
       " (231, 61.0),\n",
       " (232, 51.0),\n",
       " (233, 82.0),\n",
       " (234, 19.0),\n",
       " (235, 82.0),\n",
       " (236, 78.0),\n",
       " (237, 52.0),\n",
       " (238, 43.0),\n",
       " (239, 72.0),\n",
       " (240, 56.0),\n",
       " (241, 42.0),\n",
       " (242, 56.0),\n",
       " (243, 47.0),\n",
       " (244, 60.0),\n",
       " (245, 47.0),\n",
       " (246, 54.0),\n",
       " (247, 48.0),\n",
       " (248, 55.0),\n",
       " (249, 87.0),\n",
       " (250, 44.0),\n",
       " (251, 50.0),\n",
       " (252, 35.0),\n",
       " (253, 56.0),\n",
       " (254, 39.0),\n",
       " (255, 28.0),\n",
       " (256, 54.0),\n",
       " (257, 51.0),\n",
       " (258, 65.0),\n",
       " (259, 44.0),\n",
       " (260, 81.0),\n",
       " (261, 81.0),\n",
       " (262, 54.0),\n",
       " (263, 83.0),\n",
       " (264, 39.0),\n",
       " (265, 9.0),\n",
       " (266, 56.0),\n",
       " (267, 47.0),\n",
       " (268, 79.0),\n",
       " (269, 48.0),\n",
       " (270, 62.0),\n",
       " (271, 50.0),\n",
       " (272, 51.0),\n",
       " (273, 53.0),\n",
       " (274, 83.0),\n",
       " (275, 62.0),\n",
       " (276, 64.0),\n",
       " (277, 61.0),\n",
       " (278, 71.0),\n",
       " (279, 59.0),\n",
       " (280, 65.0),\n",
       " (281, 63.0),\n",
       " (282, 82.0),\n",
       " (283, 63.0),\n",
       " (284, 86.0),\n",
       " (285, 58.0),\n",
       " (286, 61.0),\n",
       " (287, 85.0),\n",
       " (288, 54.0),\n",
       " (289, 46.0),\n",
       " (290, 60.0),\n",
       " (291, 44.0),\n",
       " (292, 48.0),\n",
       " (293, 52.0),\n",
       " (294, 40.0),\n",
       " (295, 57.0),\n",
       " (296, 53.0),\n",
       " (297, 66.0),\n",
       " (298, 81.0),\n",
       " (299, 82.0),\n",
       " (300, 82.0),\n",
       " (301, 67.0),\n",
       " (302, 48.0),\n",
       " (303, 46.0),\n",
       " (304, 37.0),\n",
       " (305, 36.0),\n",
       " (306, 55.0),\n",
       " (307, 71.0),\n",
       " (308, 57.0),\n",
       " (309, 43.0),\n",
       " (310, 50.0),\n",
       " (311, 48.0),\n",
       " (312, 25.0),\n",
       " (313, 82.0),\n",
       " (314, nan),\n",
       " (315, 60.0),\n",
       " (316, 43.0),\n",
       " (317, 59.0),\n",
       " (318, 69.0),\n",
       " (319, 61.0),\n",
       " (320, 57.0),\n",
       " (321, 81.0),\n",
       " (322, 50.0),\n",
       " (323, 61.0),\n",
       " (324, 54.0),\n",
       " (325, 9.0),\n",
       " (326, 81.0),\n",
       " (327, 80.0),\n",
       " (328, 59.0),\n",
       " (329, 81.0)]"
      ]
     },
     "execution_count": 28,
     "metadata": {},
     "output_type": "execute_result"
    }
   ],
   "source": [
    "[item for item in enumerate(skidata['yearsOpen'])]"
   ]
  },
  {
   "cell_type": "code",
   "execution_count": 29,
   "metadata": {},
   "outputs": [
    {
     "name": "stdout",
     "output_type": "stream",
     "text": [
      "Pine Knob Ski Resort\n"
     ]
    }
   ],
   "source": [
    "print(skidata['Name'].iloc[115])"
   ]
  },
  {
   "cell_type": "code",
   "execution_count": 30,
   "metadata": {},
   "outputs": [],
   "source": [
    "# confirmed Pine Knob opened in 2019\n",
    "skidata['yearsOpen'] = skidata['yearsOpen'].replace({2019.0:1})"
   ]
  },
  {
   "cell_type": "code",
   "execution_count": 31,
   "metadata": {},
   "outputs": [
    {
     "data": {
      "text/plain": [
       "count    316.000000\n",
       "mean     185.316456\n",
       "std      136.356842\n",
       "min       18.000000\n",
       "25%       69.000000\n",
       "50%      150.000000\n",
       "75%      300.000000\n",
       "max      669.000000\n",
       "Name: averageSnowfall, dtype: float64"
      ]
     },
     "execution_count": 31,
     "metadata": {},
     "output_type": "execute_result"
    }
   ],
   "source": [
    "skidata['averageSnowfall'].describe()"
   ]
  },
  {
   "cell_type": "code",
   "execution_count": 32,
   "metadata": {},
   "outputs": [
    {
     "data": {
      "text/plain": [
       "count    276.000000\n",
       "mean      57.916957\n",
       "std       26.140126\n",
       "min       15.000000\n",
       "25%       40.000000\n",
       "50%       50.000000\n",
       "75%       71.000000\n",
       "max      179.000000\n",
       "Name: AdultWeekday, dtype: float64"
      ]
     },
     "execution_count": 32,
     "metadata": {},
     "output_type": "execute_result"
    }
   ],
   "source": [
    "skidata['AdultWeekday'].describe()"
   ]
  },
  {
   "cell_type": "code",
   "execution_count": 33,
   "metadata": {},
   "outputs": [
    {
     "data": {
      "text/plain": [
       "count    279.000000\n",
       "mean      64.166810\n",
       "std       24.554584\n",
       "min       17.000000\n",
       "25%       47.000000\n",
       "50%       60.000000\n",
       "75%       77.500000\n",
       "max      179.000000\n",
       "Name: AdultWeekend, dtype: float64"
      ]
     },
     "execution_count": 33,
     "metadata": {},
     "output_type": "execute_result"
    }
   ],
   "source": [
    "skidata['AdultWeekend'].describe()"
   ]
  },
  {
   "cell_type": "code",
   "execution_count": 34,
   "metadata": {},
   "outputs": [
    {
     "data": {
      "text/plain": [
       "count    283.000000\n",
       "mean     120.053004\n",
       "std       31.045963\n",
       "min       30.000000\n",
       "25%      100.000000\n",
       "50%      120.000000\n",
       "75%      139.500000\n",
       "max      305.000000\n",
       "Name: projectedDaysOpen, dtype: float64"
      ]
     },
     "execution_count": 34,
     "metadata": {},
     "output_type": "execute_result"
    }
   ],
   "source": [
    "skidata['projectedDaysOpen'].describe()"
   ]
  },
  {
   "cell_type": "code",
   "execution_count": 35,
   "metadata": {},
   "outputs": [
    {
     "data": {
      "text/plain": [
       "count    187.000000\n",
       "mean     100.395722\n",
       "std      105.169620\n",
       "min        2.000000\n",
       "25%       40.000000\n",
       "50%       72.000000\n",
       "75%      114.000000\n",
       "max      650.000000\n",
       "Name: NightSkiing_ac, dtype: float64"
      ]
     },
     "execution_count": 35,
     "metadata": {},
     "output_type": "execute_result"
    }
   ],
   "source": [
    "skidata['NightSkiing_ac'].describe()"
   ]
  },
  {
   "cell_type": "markdown",
   "metadata": {},
   "source": [
    "# Exploratory Data Analysis"
   ]
  },
  {
   "cell_type": "code",
   "execution_count": 36,
   "metadata": {},
   "outputs": [],
   "source": [
    "profit_margin = 0.092\n",
    "bus_costs = 1540000\n",
    "skiers = 350000"
   ]
  },
  {
   "cell_type": "code",
   "execution_count": 37,
   "metadata": {},
   "outputs": [
    {
     "name": "stdout",
     "output_type": "stream",
     "text": [
      "16739130.43478261\n"
     ]
    }
   ],
   "source": [
    "# profit margin = company profit / business costs\n",
    "comp_profit = (bus_costs / profit_margin)\n",
    "print(comp_profit)"
   ]
  },
  {
   "cell_type": "code",
   "execution_count": 38,
   "metadata": {},
   "outputs": [],
   "source": [
    "skidata.set_index('Name', inplace=True)"
   ]
  },
  {
   "cell_type": "code",
   "execution_count": 39,
   "metadata": {},
   "outputs": [
    {
     "data": {
      "text/html": [
       "<div>\n",
       "<style scoped>\n",
       "    .dataframe tbody tr th:only-of-type {\n",
       "        vertical-align: middle;\n",
       "    }\n",
       "\n",
       "    .dataframe tbody tr th {\n",
       "        vertical-align: top;\n",
       "    }\n",
       "\n",
       "    .dataframe thead th {\n",
       "        text-align: right;\n",
       "    }\n",
       "</style>\n",
       "<table border=\"1\" class=\"dataframe\">\n",
       "  <thead>\n",
       "    <tr style=\"text-align: right;\">\n",
       "      <th></th>\n",
       "      <th>Region</th>\n",
       "      <th>state</th>\n",
       "      <th>summit_elev</th>\n",
       "      <th>vertical_drop</th>\n",
       "      <th>base_elev</th>\n",
       "      <th>trams</th>\n",
       "      <th>fastEight</th>\n",
       "      <th>fastSixes</th>\n",
       "      <th>fastQuads</th>\n",
       "      <th>quad</th>\n",
       "      <th>triple</th>\n",
       "      <th>double</th>\n",
       "      <th>surface</th>\n",
       "      <th>total_chairs</th>\n",
       "      <th>Runs</th>\n",
       "      <th>TerrainParks</th>\n",
       "      <th>LongestRun_mi</th>\n",
       "      <th>SkiableTerrain_ac</th>\n",
       "      <th>Snow Making_ac</th>\n",
       "      <th>daysOpenLastYear</th>\n",
       "      <th>yearsOpen</th>\n",
       "      <th>averageSnowfall</th>\n",
       "      <th>AdultWeekday</th>\n",
       "      <th>AdultWeekend</th>\n",
       "      <th>projectedDaysOpen</th>\n",
       "      <th>NightSkiing_ac</th>\n",
       "    </tr>\n",
       "    <tr>\n",
       "      <th>Name</th>\n",
       "      <th></th>\n",
       "      <th></th>\n",
       "      <th></th>\n",
       "      <th></th>\n",
       "      <th></th>\n",
       "      <th></th>\n",
       "      <th></th>\n",
       "      <th></th>\n",
       "      <th></th>\n",
       "      <th></th>\n",
       "      <th></th>\n",
       "      <th></th>\n",
       "      <th></th>\n",
       "      <th></th>\n",
       "      <th></th>\n",
       "      <th></th>\n",
       "      <th></th>\n",
       "      <th></th>\n",
       "      <th></th>\n",
       "      <th></th>\n",
       "      <th></th>\n",
       "      <th></th>\n",
       "      <th></th>\n",
       "      <th></th>\n",
       "      <th></th>\n",
       "      <th></th>\n",
       "    </tr>\n",
       "  </thead>\n",
       "  <tbody>\n",
       "    <tr>\n",
       "      <th>Alyeska Resort</th>\n",
       "      <td>Alaska</td>\n",
       "      <td>Alaska</td>\n",
       "      <td>3939</td>\n",
       "      <td>2500</td>\n",
       "      <td>250</td>\n",
       "      <td>1</td>\n",
       "      <td>0.0</td>\n",
       "      <td>0</td>\n",
       "      <td>2</td>\n",
       "      <td>2</td>\n",
       "      <td>0</td>\n",
       "      <td>0</td>\n",
       "      <td>2</td>\n",
       "      <td>7</td>\n",
       "      <td>76.0</td>\n",
       "      <td>2.0</td>\n",
       "      <td>1.0</td>\n",
       "      <td>1610.0</td>\n",
       "      <td>113.0</td>\n",
       "      <td>150.0</td>\n",
       "      <td>60.0</td>\n",
       "      <td>669.0</td>\n",
       "      <td>65.0</td>\n",
       "      <td>85.0</td>\n",
       "      <td>150.0</td>\n",
       "      <td>550.0</td>\n",
       "    </tr>\n",
       "    <tr>\n",
       "      <th>Eaglecrest Ski Area</th>\n",
       "      <td>Alaska</td>\n",
       "      <td>Alaska</td>\n",
       "      <td>2600</td>\n",
       "      <td>1540</td>\n",
       "      <td>1200</td>\n",
       "      <td>0</td>\n",
       "      <td>0.0</td>\n",
       "      <td>0</td>\n",
       "      <td>0</td>\n",
       "      <td>0</td>\n",
       "      <td>0</td>\n",
       "      <td>4</td>\n",
       "      <td>0</td>\n",
       "      <td>4</td>\n",
       "      <td>36.0</td>\n",
       "      <td>1.0</td>\n",
       "      <td>2.0</td>\n",
       "      <td>640.0</td>\n",
       "      <td>60.0</td>\n",
       "      <td>45.0</td>\n",
       "      <td>44.0</td>\n",
       "      <td>350.0</td>\n",
       "      <td>47.0</td>\n",
       "      <td>53.0</td>\n",
       "      <td>90.0</td>\n",
       "      <td>NaN</td>\n",
       "    </tr>\n",
       "    <tr>\n",
       "      <th>Hilltop Ski Area</th>\n",
       "      <td>Alaska</td>\n",
       "      <td>Alaska</td>\n",
       "      <td>2090</td>\n",
       "      <td>294</td>\n",
       "      <td>1796</td>\n",
       "      <td>0</td>\n",
       "      <td>0.0</td>\n",
       "      <td>0</td>\n",
       "      <td>0</td>\n",
       "      <td>0</td>\n",
       "      <td>1</td>\n",
       "      <td>0</td>\n",
       "      <td>2</td>\n",
       "      <td>3</td>\n",
       "      <td>13.0</td>\n",
       "      <td>1.0</td>\n",
       "      <td>1.0</td>\n",
       "      <td>30.0</td>\n",
       "      <td>30.0</td>\n",
       "      <td>150.0</td>\n",
       "      <td>36.0</td>\n",
       "      <td>69.0</td>\n",
       "      <td>30.0</td>\n",
       "      <td>34.0</td>\n",
       "      <td>152.0</td>\n",
       "      <td>30.0</td>\n",
       "    </tr>\n",
       "    <tr>\n",
       "      <th>Arizona Snowbowl</th>\n",
       "      <td>Arizona</td>\n",
       "      <td>Arizona</td>\n",
       "      <td>11500</td>\n",
       "      <td>2300</td>\n",
       "      <td>9200</td>\n",
       "      <td>0</td>\n",
       "      <td>0.0</td>\n",
       "      <td>1</td>\n",
       "      <td>0</td>\n",
       "      <td>2</td>\n",
       "      <td>2</td>\n",
       "      <td>1</td>\n",
       "      <td>2</td>\n",
       "      <td>8</td>\n",
       "      <td>55.0</td>\n",
       "      <td>4.0</td>\n",
       "      <td>2.0</td>\n",
       "      <td>777.0</td>\n",
       "      <td>104.0</td>\n",
       "      <td>122.0</td>\n",
       "      <td>81.0</td>\n",
       "      <td>260.0</td>\n",
       "      <td>89.0</td>\n",
       "      <td>89.0</td>\n",
       "      <td>122.0</td>\n",
       "      <td>NaN</td>\n",
       "    </tr>\n",
       "    <tr>\n",
       "      <th>Sunrise Park Resort</th>\n",
       "      <td>Arizona</td>\n",
       "      <td>Arizona</td>\n",
       "      <td>11100</td>\n",
       "      <td>1800</td>\n",
       "      <td>9200</td>\n",
       "      <td>0</td>\n",
       "      <td>NaN</td>\n",
       "      <td>0</td>\n",
       "      <td>1</td>\n",
       "      <td>2</td>\n",
       "      <td>3</td>\n",
       "      <td>1</td>\n",
       "      <td>0</td>\n",
       "      <td>7</td>\n",
       "      <td>65.0</td>\n",
       "      <td>2.0</td>\n",
       "      <td>1.2</td>\n",
       "      <td>800.0</td>\n",
       "      <td>80.0</td>\n",
       "      <td>115.0</td>\n",
       "      <td>49.0</td>\n",
       "      <td>250.0</td>\n",
       "      <td>74.0</td>\n",
       "      <td>78.0</td>\n",
       "      <td>104.0</td>\n",
       "      <td>80.0</td>\n",
       "    </tr>\n",
       "  </tbody>\n",
       "</table>\n",
       "</div>"
      ],
      "text/plain": [
       "                      Region    state  summit_elev  vertical_drop  base_elev  \\\n",
       "Name                                                                           \n",
       "Alyeska Resort        Alaska   Alaska         3939           2500        250   \n",
       "Eaglecrest Ski Area   Alaska   Alaska         2600           1540       1200   \n",
       "Hilltop Ski Area      Alaska   Alaska         2090            294       1796   \n",
       "Arizona Snowbowl     Arizona  Arizona        11500           2300       9200   \n",
       "Sunrise Park Resort  Arizona  Arizona        11100           1800       9200   \n",
       "\n",
       "                     trams  fastEight  fastSixes  fastQuads  quad  triple  \\\n",
       "Name                                                                        \n",
       "Alyeska Resort           1        0.0          0          2     2       0   \n",
       "Eaglecrest Ski Area      0        0.0          0          0     0       0   \n",
       "Hilltop Ski Area         0        0.0          0          0     0       1   \n",
       "Arizona Snowbowl         0        0.0          1          0     2       2   \n",
       "Sunrise Park Resort      0        NaN          0          1     2       3   \n",
       "\n",
       "                     double  surface  total_chairs  Runs  TerrainParks  \\\n",
       "Name                                                                     \n",
       "Alyeska Resort            0        2             7  76.0           2.0   \n",
       "Eaglecrest Ski Area       4        0             4  36.0           1.0   \n",
       "Hilltop Ski Area          0        2             3  13.0           1.0   \n",
       "Arizona Snowbowl          1        2             8  55.0           4.0   \n",
       "Sunrise Park Resort       1        0             7  65.0           2.0   \n",
       "\n",
       "                     LongestRun_mi  SkiableTerrain_ac  Snow Making_ac  \\\n",
       "Name                                                                    \n",
       "Alyeska Resort                 1.0             1610.0           113.0   \n",
       "Eaglecrest Ski Area            2.0              640.0            60.0   \n",
       "Hilltop Ski Area               1.0               30.0            30.0   \n",
       "Arizona Snowbowl               2.0              777.0           104.0   \n",
       "Sunrise Park Resort            1.2              800.0            80.0   \n",
       "\n",
       "                     daysOpenLastYear  yearsOpen  averageSnowfall  \\\n",
       "Name                                                                \n",
       "Alyeska Resort                  150.0       60.0            669.0   \n",
       "Eaglecrest Ski Area              45.0       44.0            350.0   \n",
       "Hilltop Ski Area                150.0       36.0             69.0   \n",
       "Arizona Snowbowl                122.0       81.0            260.0   \n",
       "Sunrise Park Resort             115.0       49.0            250.0   \n",
       "\n",
       "                     AdultWeekday  AdultWeekend  projectedDaysOpen  \\\n",
       "Name                                                                 \n",
       "Alyeska Resort               65.0          85.0              150.0   \n",
       "Eaglecrest Ski Area          47.0          53.0               90.0   \n",
       "Hilltop Ski Area             30.0          34.0              152.0   \n",
       "Arizona Snowbowl             89.0          89.0              122.0   \n",
       "Sunrise Park Resort          74.0          78.0              104.0   \n",
       "\n",
       "                     NightSkiing_ac  \n",
       "Name                                 \n",
       "Alyeska Resort                550.0  \n",
       "Eaglecrest Ski Area             NaN  \n",
       "Hilltop Ski Area               30.0  \n",
       "Arizona Snowbowl                NaN  \n",
       "Sunrise Park Resort            80.0  "
      ]
     },
     "execution_count": 39,
     "metadata": {},
     "output_type": "execute_result"
    }
   ],
   "source": [
    "skidata.head()"
   ]
  },
  {
   "cell_type": "code",
   "execution_count": 40,
   "metadata": {},
   "outputs": [],
   "source": [
    "skidataBMR = skidata[skidata.index == 'Big Mountain Resort']"
   ]
  },
  {
   "cell_type": "code",
   "execution_count": 41,
   "metadata": {},
   "outputs": [
    {
     "data": {
      "text/html": [
       "<div>\n",
       "<style scoped>\n",
       "    .dataframe tbody tr th:only-of-type {\n",
       "        vertical-align: middle;\n",
       "    }\n",
       "\n",
       "    .dataframe tbody tr th {\n",
       "        vertical-align: top;\n",
       "    }\n",
       "\n",
       "    .dataframe thead th {\n",
       "        text-align: right;\n",
       "    }\n",
       "</style>\n",
       "<table border=\"1\" class=\"dataframe\">\n",
       "  <thead>\n",
       "    <tr style=\"text-align: right;\">\n",
       "      <th></th>\n",
       "      <th>Region</th>\n",
       "      <th>state</th>\n",
       "      <th>summit_elev</th>\n",
       "      <th>vertical_drop</th>\n",
       "      <th>base_elev</th>\n",
       "      <th>trams</th>\n",
       "      <th>fastEight</th>\n",
       "      <th>fastSixes</th>\n",
       "      <th>fastQuads</th>\n",
       "      <th>quad</th>\n",
       "      <th>triple</th>\n",
       "      <th>double</th>\n",
       "      <th>surface</th>\n",
       "      <th>total_chairs</th>\n",
       "      <th>Runs</th>\n",
       "      <th>TerrainParks</th>\n",
       "      <th>LongestRun_mi</th>\n",
       "      <th>SkiableTerrain_ac</th>\n",
       "      <th>Snow Making_ac</th>\n",
       "      <th>daysOpenLastYear</th>\n",
       "      <th>yearsOpen</th>\n",
       "      <th>averageSnowfall</th>\n",
       "      <th>AdultWeekday</th>\n",
       "      <th>AdultWeekend</th>\n",
       "      <th>projectedDaysOpen</th>\n",
       "      <th>NightSkiing_ac</th>\n",
       "    </tr>\n",
       "    <tr>\n",
       "      <th>Name</th>\n",
       "      <th></th>\n",
       "      <th></th>\n",
       "      <th></th>\n",
       "      <th></th>\n",
       "      <th></th>\n",
       "      <th></th>\n",
       "      <th></th>\n",
       "      <th></th>\n",
       "      <th></th>\n",
       "      <th></th>\n",
       "      <th></th>\n",
       "      <th></th>\n",
       "      <th></th>\n",
       "      <th></th>\n",
       "      <th></th>\n",
       "      <th></th>\n",
       "      <th></th>\n",
       "      <th></th>\n",
       "      <th></th>\n",
       "      <th></th>\n",
       "      <th></th>\n",
       "      <th></th>\n",
       "      <th></th>\n",
       "      <th></th>\n",
       "      <th></th>\n",
       "      <th></th>\n",
       "    </tr>\n",
       "  </thead>\n",
       "  <tbody>\n",
       "    <tr>\n",
       "      <th>Big Mountain Resort</th>\n",
       "      <td>Montana</td>\n",
       "      <td>Montana</td>\n",
       "      <td>6817</td>\n",
       "      <td>2353</td>\n",
       "      <td>4464</td>\n",
       "      <td>0</td>\n",
       "      <td>0.0</td>\n",
       "      <td>0</td>\n",
       "      <td>3</td>\n",
       "      <td>2</td>\n",
       "      <td>6</td>\n",
       "      <td>0</td>\n",
       "      <td>3</td>\n",
       "      <td>14</td>\n",
       "      <td>105.0</td>\n",
       "      <td>4.0</td>\n",
       "      <td>3.3</td>\n",
       "      <td>3000.0</td>\n",
       "      <td>600.0</td>\n",
       "      <td>123.0</td>\n",
       "      <td>72.0</td>\n",
       "      <td>333.0</td>\n",
       "      <td>81.0</td>\n",
       "      <td>81.0</td>\n",
       "      <td>123.0</td>\n",
       "      <td>600.0</td>\n",
       "    </tr>\n",
       "  </tbody>\n",
       "</table>\n",
       "</div>"
      ],
      "text/plain": [
       "                      Region    state  summit_elev  vertical_drop  base_elev  \\\n",
       "Name                                                                           \n",
       "Big Mountain Resort  Montana  Montana         6817           2353       4464   \n",
       "\n",
       "                     trams  fastEight  fastSixes  fastQuads  quad  triple  \\\n",
       "Name                                                                        \n",
       "Big Mountain Resort      0        0.0          0          3     2       6   \n",
       "\n",
       "                     double  surface  total_chairs   Runs  TerrainParks  \\\n",
       "Name                                                                      \n",
       "Big Mountain Resort       0        3            14  105.0           4.0   \n",
       "\n",
       "                     LongestRun_mi  SkiableTerrain_ac  Snow Making_ac  \\\n",
       "Name                                                                    \n",
       "Big Mountain Resort            3.3             3000.0           600.0   \n",
       "\n",
       "                     daysOpenLastYear  yearsOpen  averageSnowfall  \\\n",
       "Name                                                                \n",
       "Big Mountain Resort             123.0       72.0            333.0   \n",
       "\n",
       "                     AdultWeekday  AdultWeekend  projectedDaysOpen  \\\n",
       "Name                                                                 \n",
       "Big Mountain Resort          81.0          81.0              123.0   \n",
       "\n",
       "                     NightSkiing_ac  \n",
       "Name                                 \n",
       "Big Mountain Resort           600.0  "
      ]
     },
     "execution_count": 41,
     "metadata": {},
     "output_type": "execute_result"
    }
   ],
   "source": [
    "skidataBMR"
   ]
  },
  {
   "cell_type": "code",
   "execution_count": 42,
   "metadata": {},
   "outputs": [],
   "source": [
    "BMRticket = skidataBMR['AdultWeekday']"
   ]
  },
  {
   "cell_type": "code",
   "execution_count": 43,
   "metadata": {},
   "outputs": [],
   "source": [
    "BMRticket_rev = BMRticket * skiers"
   ]
  },
  {
   "cell_type": "code",
   "execution_count": 44,
   "metadata": {},
   "outputs": [
    {
     "data": {
      "text/plain": [
       "Name\n",
       "Big Mountain Resort    28350000.0\n",
       "Name: AdultWeekday, dtype: float64"
      ]
     },
     "execution_count": 44,
     "metadata": {},
     "output_type": "execute_result"
    }
   ],
   "source": [
    "BMRticket_rev"
   ]
  },
  {
   "cell_type": "code",
   "execution_count": 45,
   "metadata": {},
   "outputs": [],
   "source": [
    "statedata = skidata.groupby('state')['AdultWeekday'].mean()"
   ]
  },
  {
   "cell_type": "code",
   "execution_count": 46,
   "metadata": {},
   "outputs": [
    {
     "data": {
      "text/plain": [
       "state\n",
       "Alaska            47.333333\n",
       "Arizona           81.500000\n",
       "California        78.214286\n",
       "Colorado          90.714286\n",
       "Connecticut       47.800000\n",
       "Idaho             56.555556\n",
       "Illinois          35.000000\n",
       "Indiana           45.000000\n",
       "Iowa              35.666667\n",
       "Maine             51.500000\n",
       "Maryland          59.000000\n",
       "Massachusetts     40.900000\n",
       "Michigan          45.458333\n",
       "Minnesota         44.595714\n",
       "Missouri          43.000000\n",
       "Montana           51.909091\n",
       "Nevada            78.500000\n",
       "New Hampshire     65.571429\n",
       "New Jersey        79.990000\n",
       "New Mexico        65.666667\n",
       "New York          50.032258\n",
       "North Carolina    41.833333\n",
       "Ohio              42.200000\n",
       "Oregon            58.857143\n",
       "Pennsylvania      52.705882\n",
       "Rhode Island            NaN\n",
       "South Dakota      51.500000\n",
       "Tennessee         36.000000\n",
       "Utah              89.083333\n",
       "Vermont           83.500000\n",
       "Virginia          51.000000\n",
       "Washington        65.107143\n",
       "West Virginia     62.500000\n",
       "Wisconsin         46.428571\n",
       "Wyoming           57.600000\n",
       "Name: AdultWeekday, dtype: float64"
      ]
     },
     "execution_count": 46,
     "metadata": {},
     "output_type": "execute_result"
    }
   ],
   "source": [
    "statedata"
   ]
  },
  {
   "cell_type": "code",
   "execution_count": 47,
   "metadata": {},
   "outputs": [
    {
     "data": {
      "image/png": "[encoded data removed]",
      "text/plain": [
       "<Figure size 720x720 with 1 Axes>"
      ]
     },
     "metadata": {
      "needs_background": "light"
     },
     "output_type": "display_data"
    }
   ],
   "source": [
    "statedata.plot(x='state', y='AdultWeekday', kind='bar', figsize=(10,10))\n",
    "plt.show()"
   ]
  },
  {
   "cell_type": "code",
   "execution_count": 48,
   "metadata": {},
   "outputs": [
    {
     "data": {
      "image/png": "[encoded data removed]",
      "text/plain": [
       "<Figure size 432x288 with 1 Axes>"
      ]
     },
     "metadata": {
      "needs_background": "light"
     },
     "output_type": "display_data"
    }
   ],
   "source": [
    "sns.boxplot(x='state', y='AdultWeekday', data=skidata, whis=10, width=0.6)\n",
    "plt.xticks(rotation = 90)\n",
    "plt.show()"
   ]
  },
  {
   "cell_type": "code",
   "execution_count": 49,
   "metadata": {},
   "outputs": [
    {
     "data": {
      "image/png": "[encoded data removed]",
      "text/plain": [
       "<Figure size 1440x720 with 2 Axes>"
      ]
     },
     "metadata": {
      "needs_background": "light"
     },
     "output_type": "display_data"
    }
   ],
   "source": [
    "plt.figure(figsize=(20,10))\n",
    "sns.heatmap(skidata.corr(),linewidths=.1,cmap=\"YlGnBu\", annot=True)\n",
    "plt.yticks(rotation=0);"
   ]
  },
  {
   "cell_type": "code",
   "execution_count": 50,
   "metadata": {},
   "outputs": [
    {
     "data": {
      "image/png": "[encoded data removed]",
      "text/plain": [
       "<Figure size 1440x1440 with 25 Axes>"
      ]
     },
     "metadata": {
      "needs_background": "light"
     },
     "output_type": "display_data"
    }
   ],
   "source": [
    "hist = skidata.hist(bins=10,figsize =(20,20))"
   ]
  },
  {
   "cell_type": "code",
   "execution_count": 51,
   "metadata": {},
   "outputs": [
    {
     "data": {
      "image/png": "[encoded data removed]",
      "text/plain": [
       "<Figure size 432x288 with 1 Axes>"
      ]
     },
     "metadata": {
      "needs_background": "light"
     },
     "output_type": "display_data"
    }
   ],
   "source": [
    "plt.plot(skidata['yearsOpen'], skidata['AdultWeekday'], 'o')\n",
    "plt.show()"
   ]
  },
  {
   "cell_type": "code",
   "execution_count": 52,
   "metadata": {},
   "outputs": [],
   "source": [
    "subset = skidata.dropna(subset=['yearsOpen', 'AdultWeekday'])"
   ]
  },
  {
   "cell_type": "code",
   "execution_count": 53,
   "metadata": {},
   "outputs": [
    {
     "name": "stdout",
     "output_type": "stream",
     "text": [
      "LinregressResult(slope=0.24874218432272874, intercept=43.69810416005248, rvalue=0.16574471453356124, pvalue=0.005866937697078255, stderr=0.0895735204158226)\n"
     ]
    }
   ],
   "source": [
    "xs = subset['yearsOpen']\n",
    "ys = subset['AdultWeekday']\n",
    "res = linregress(xs, ys)\n",
    "print(res)"
   ]
  },
  {
   "cell_type": "code",
   "execution_count": 54,
   "metadata": {},
   "outputs": [],
   "source": [
    "# with every year in business, ticket prices go up about $0.25\n",
    "slope1 = 0.24874218432272874"
   ]
  },
  {
   "cell_type": "code",
   "execution_count": 55,
   "metadata": {},
   "outputs": [
    {
     "data": {
      "image/png": "[encoded data removed]",
      "text/plain": [
       "<Figure size 432x288 with 1 Axes>"
      ]
     },
     "metadata": {
      "needs_background": "light"
     },
     "output_type": "display_data"
    }
   ],
   "source": [
    "plt.plot(skidata['yearsOpen'], skidata['AdultWeekday'], 'o')\n",
    "\n",
    "fx = np.array([xs.min(), xs.max()])\n",
    "fy = res.intercept + res.slope * fx\n",
    "plt.plot(fx, fy, '-')\n",
    "\n",
    "plt.show()"
   ]
  },
  {
   "cell_type": "code",
   "execution_count": 56,
   "metadata": {},
   "outputs": [],
   "source": [
    "newBMRdf = skidata[skidata.index == 'Big Mountain Resort']"
   ]
  },
  {
   "cell_type": "code",
   "execution_count": 57,
   "metadata": {},
   "outputs": [
    {
     "name": "stderr",
     "output_type": "stream",
     "text": [
      "/Users/memanuel0109/opt/anaconda3/lib/python3.7/site-packages/ipykernel_launcher.py:1: SettingWithCopyWarning: \n",
      "A value is trying to be set on a copy of a slice from a DataFrame.\n",
      "Try using .loc[row_indexer,col_indexer] = value instead\n",
      "\n",
      "See the caveats in the documentation: https://pandas.pydata.org/pandas-docs/stable/user_guide/indexing.html#returning-a-view-versus-a-copy\n",
      "  \"\"\"Entry point for launching an IPython kernel.\n"
     ]
    }
   ],
   "source": [
    "skidataBMR['ticket_price_inc1'] = slope1"
   ]
  },
  {
   "cell_type": "code",
   "execution_count": 58,
   "metadata": {},
   "outputs": [
    {
     "data": {
      "text/html": [
       "<div>\n",
       "<style scoped>\n",
       "    .dataframe tbody tr th:only-of-type {\n",
       "        vertical-align: middle;\n",
       "    }\n",
       "\n",
       "    .dataframe tbody tr th {\n",
       "        vertical-align: top;\n",
       "    }\n",
       "\n",
       "    .dataframe thead th {\n",
       "        text-align: right;\n",
       "    }\n",
       "</style>\n",
       "<table border=\"1\" class=\"dataframe\">\n",
       "  <thead>\n",
       "    <tr style=\"text-align: right;\">\n",
       "      <th></th>\n",
       "      <th>Region</th>\n",
       "      <th>state</th>\n",
       "      <th>summit_elev</th>\n",
       "      <th>vertical_drop</th>\n",
       "      <th>base_elev</th>\n",
       "      <th>trams</th>\n",
       "      <th>fastEight</th>\n",
       "      <th>fastSixes</th>\n",
       "      <th>fastQuads</th>\n",
       "      <th>quad</th>\n",
       "      <th>triple</th>\n",
       "      <th>double</th>\n",
       "      <th>surface</th>\n",
       "      <th>total_chairs</th>\n",
       "      <th>Runs</th>\n",
       "      <th>TerrainParks</th>\n",
       "      <th>LongestRun_mi</th>\n",
       "      <th>SkiableTerrain_ac</th>\n",
       "      <th>Snow Making_ac</th>\n",
       "      <th>daysOpenLastYear</th>\n",
       "      <th>yearsOpen</th>\n",
       "      <th>averageSnowfall</th>\n",
       "      <th>AdultWeekday</th>\n",
       "      <th>AdultWeekend</th>\n",
       "      <th>projectedDaysOpen</th>\n",
       "      <th>NightSkiing_ac</th>\n",
       "      <th>ticket_price_inc1</th>\n",
       "    </tr>\n",
       "    <tr>\n",
       "      <th>Name</th>\n",
       "      <th></th>\n",
       "      <th></th>\n",
       "      <th></th>\n",
       "      <th></th>\n",
       "      <th></th>\n",
       "      <th></th>\n",
       "      <th></th>\n",
       "      <th></th>\n",
       "      <th></th>\n",
       "      <th></th>\n",
       "      <th></th>\n",
       "      <th></th>\n",
       "      <th></th>\n",
       "      <th></th>\n",
       "      <th></th>\n",
       "      <th></th>\n",
       "      <th></th>\n",
       "      <th></th>\n",
       "      <th></th>\n",
       "      <th></th>\n",
       "      <th></th>\n",
       "      <th></th>\n",
       "      <th></th>\n",
       "      <th></th>\n",
       "      <th></th>\n",
       "      <th></th>\n",
       "      <th></th>\n",
       "    </tr>\n",
       "  </thead>\n",
       "  <tbody>\n",
       "    <tr>\n",
       "      <th>Big Mountain Resort</th>\n",
       "      <td>Montana</td>\n",
       "      <td>Montana</td>\n",
       "      <td>6817</td>\n",
       "      <td>2353</td>\n",
       "      <td>4464</td>\n",
       "      <td>0</td>\n",
       "      <td>0.0</td>\n",
       "      <td>0</td>\n",
       "      <td>3</td>\n",
       "      <td>2</td>\n",
       "      <td>6</td>\n",
       "      <td>0</td>\n",
       "      <td>3</td>\n",
       "      <td>14</td>\n",
       "      <td>105.0</td>\n",
       "      <td>4.0</td>\n",
       "      <td>3.3</td>\n",
       "      <td>3000.0</td>\n",
       "      <td>600.0</td>\n",
       "      <td>123.0</td>\n",
       "      <td>72.0</td>\n",
       "      <td>333.0</td>\n",
       "      <td>81.0</td>\n",
       "      <td>81.0</td>\n",
       "      <td>123.0</td>\n",
       "      <td>600.0</td>\n",
       "      <td>0.248742</td>\n",
       "    </tr>\n",
       "  </tbody>\n",
       "</table>\n",
       "</div>"
      ],
      "text/plain": [
       "                      Region    state  summit_elev  vertical_drop  base_elev  \\\n",
       "Name                                                                           \n",
       "Big Mountain Resort  Montana  Montana         6817           2353       4464   \n",
       "\n",
       "                     trams  fastEight  fastSixes  fastQuads  quad  triple  \\\n",
       "Name                                                                        \n",
       "Big Mountain Resort      0        0.0          0          3     2       6   \n",
       "\n",
       "                     double  surface  total_chairs   Runs  TerrainParks  \\\n",
       "Name                                                                      \n",
       "Big Mountain Resort       0        3            14  105.0           4.0   \n",
       "\n",
       "                     LongestRun_mi  SkiableTerrain_ac  Snow Making_ac  \\\n",
       "Name                                                                    \n",
       "Big Mountain Resort            3.3             3000.0           600.0   \n",
       "\n",
       "                     daysOpenLastYear  yearsOpen  averageSnowfall  \\\n",
       "Name                                                                \n",
       "Big Mountain Resort             123.0       72.0            333.0   \n",
       "\n",
       "                     AdultWeekday  AdultWeekend  projectedDaysOpen  \\\n",
       "Name                                                                 \n",
       "Big Mountain Resort          81.0          81.0              123.0   \n",
       "\n",
       "                     NightSkiing_ac  ticket_price_inc1  \n",
       "Name                                                    \n",
       "Big Mountain Resort           600.0           0.248742  "
      ]
     },
     "execution_count": 58,
     "metadata": {},
     "output_type": "execute_result"
    }
   ],
   "source": [
    "skidataBMR"
   ]
  },
  {
   "cell_type": "code",
   "execution_count": 59,
   "metadata": {},
   "outputs": [],
   "source": [
    "skidata2 = skidata.reset_index()"
   ]
  },
  {
   "cell_type": "code",
   "execution_count": 60,
   "metadata": {},
   "outputs": [],
   "source": [
    "indexNames = skidata2[skidata2['state'] != 'Montana'].index"
   ]
  },
  {
   "cell_type": "code",
   "execution_count": 61,
   "metadata": {},
   "outputs": [],
   "source": [
    "skidata2 = skidata2.drop(indexNames)"
   ]
  },
  {
   "cell_type": "code",
   "execution_count": 62,
   "metadata": {},
   "outputs": [
    {
     "data": {
      "text/html": [
       "<div>\n",
       "<style scoped>\n",
       "    .dataframe tbody tr th:only-of-type {\n",
       "        vertical-align: middle;\n",
       "    }\n",
       "\n",
       "    .dataframe tbody tr th {\n",
       "        vertical-align: top;\n",
       "    }\n",
       "\n",
       "    .dataframe thead th {\n",
       "        text-align: right;\n",
       "    }\n",
       "</style>\n",
       "<table border=\"1\" class=\"dataframe\">\n",
       "  <thead>\n",
       "    <tr style=\"text-align: right;\">\n",
       "      <th></th>\n",
       "      <th>Name</th>\n",
       "      <th>Region</th>\n",
       "      <th>state</th>\n",
       "      <th>summit_elev</th>\n",
       "      <th>vertical_drop</th>\n",
       "      <th>base_elev</th>\n",
       "      <th>trams</th>\n",
       "      <th>fastEight</th>\n",
       "      <th>fastSixes</th>\n",
       "      <th>fastQuads</th>\n",
       "      <th>quad</th>\n",
       "      <th>triple</th>\n",
       "      <th>double</th>\n",
       "      <th>surface</th>\n",
       "      <th>total_chairs</th>\n",
       "      <th>Runs</th>\n",
       "      <th>TerrainParks</th>\n",
       "      <th>LongestRun_mi</th>\n",
       "      <th>SkiableTerrain_ac</th>\n",
       "      <th>Snow Making_ac</th>\n",
       "      <th>daysOpenLastYear</th>\n",
       "      <th>yearsOpen</th>\n",
       "      <th>averageSnowfall</th>\n",
       "      <th>AdultWeekday</th>\n",
       "      <th>AdultWeekend</th>\n",
       "      <th>projectedDaysOpen</th>\n",
       "      <th>NightSkiing_ac</th>\n",
       "    </tr>\n",
       "  </thead>\n",
       "  <tbody>\n",
       "    <tr>\n",
       "      <th>140</th>\n",
       "      <td>Big Sky Resort</td>\n",
       "      <td>Montana</td>\n",
       "      <td>Montana</td>\n",
       "      <td>11166</td>\n",
       "      <td>4350</td>\n",
       "      <td>7500</td>\n",
       "      <td>1</td>\n",
       "      <td>1.0</td>\n",
       "      <td>2</td>\n",
       "      <td>5</td>\n",
       "      <td>3</td>\n",
       "      <td>7</td>\n",
       "      <td>5</td>\n",
       "      <td>12</td>\n",
       "      <td>36</td>\n",
       "      <td>317.0</td>\n",
       "      <td>8.0</td>\n",
       "      <td>6.0</td>\n",
       "      <td>5800.0</td>\n",
       "      <td>400.0</td>\n",
       "      <td>144.0</td>\n",
       "      <td>46.0</td>\n",
       "      <td>400.0</td>\n",
       "      <td>NaN</td>\n",
       "      <td>NaN</td>\n",
       "      <td>144.0</td>\n",
       "      <td>NaN</td>\n",
       "    </tr>\n",
       "    <tr>\n",
       "      <th>141</th>\n",
       "      <td>Blacktail Mountain Ski Area</td>\n",
       "      <td>Montana</td>\n",
       "      <td>Montana</td>\n",
       "      <td>6676</td>\n",
       "      <td>1440</td>\n",
       "      <td>5236</td>\n",
       "      <td>0</td>\n",
       "      <td>NaN</td>\n",
       "      <td>0</td>\n",
       "      <td>0</td>\n",
       "      <td>0</td>\n",
       "      <td>1</td>\n",
       "      <td>2</td>\n",
       "      <td>1</td>\n",
       "      <td>4</td>\n",
       "      <td>27.0</td>\n",
       "      <td>NaN</td>\n",
       "      <td>0.7</td>\n",
       "      <td>1000.0</td>\n",
       "      <td>NaN</td>\n",
       "      <td>NaN</td>\n",
       "      <td>21.0</td>\n",
       "      <td>250.0</td>\n",
       "      <td>42.0</td>\n",
       "      <td>42.0</td>\n",
       "      <td>NaN</td>\n",
       "      <td>NaN</td>\n",
       "    </tr>\n",
       "    <tr>\n",
       "      <th>142</th>\n",
       "      <td>Bridger Bowl</td>\n",
       "      <td>Montana</td>\n",
       "      <td>Montana</td>\n",
       "      <td>8700</td>\n",
       "      <td>2600</td>\n",
       "      <td>6100</td>\n",
       "      <td>0</td>\n",
       "      <td>0.0</td>\n",
       "      <td>0</td>\n",
       "      <td>0</td>\n",
       "      <td>1</td>\n",
       "      <td>6</td>\n",
       "      <td>1</td>\n",
       "      <td>3</td>\n",
       "      <td>11</td>\n",
       "      <td>105.0</td>\n",
       "      <td>2.0</td>\n",
       "      <td>1.5</td>\n",
       "      <td>2000.0</td>\n",
       "      <td>100.0</td>\n",
       "      <td>122.0</td>\n",
       "      <td>64.0</td>\n",
       "      <td>350.0</td>\n",
       "      <td>63.0</td>\n",
       "      <td>63.0</td>\n",
       "      <td>133.0</td>\n",
       "      <td>NaN</td>\n",
       "    </tr>\n",
       "    <tr>\n",
       "      <th>143</th>\n",
       "      <td>Discovery Ski Area</td>\n",
       "      <td>Montana</td>\n",
       "      <td>Montana</td>\n",
       "      <td>8150</td>\n",
       "      <td>2380</td>\n",
       "      <td>5770</td>\n",
       "      <td>0</td>\n",
       "      <td>0.0</td>\n",
       "      <td>0</td>\n",
       "      <td>0</td>\n",
       "      <td>0</td>\n",
       "      <td>5</td>\n",
       "      <td>2</td>\n",
       "      <td>1</td>\n",
       "      <td>8</td>\n",
       "      <td>74.0</td>\n",
       "      <td>1.0</td>\n",
       "      <td>1.5</td>\n",
       "      <td>2400.0</td>\n",
       "      <td>25.0</td>\n",
       "      <td>116.0</td>\n",
       "      <td>46.0</td>\n",
       "      <td>225.0</td>\n",
       "      <td>49.0</td>\n",
       "      <td>49.0</td>\n",
       "      <td>116.0</td>\n",
       "      <td>NaN</td>\n",
       "    </tr>\n",
       "    <tr>\n",
       "      <th>144</th>\n",
       "      <td>Great Divide</td>\n",
       "      <td>Montana</td>\n",
       "      <td>Montana</td>\n",
       "      <td>7330</td>\n",
       "      <td>1580</td>\n",
       "      <td>5750</td>\n",
       "      <td>0</td>\n",
       "      <td>0.0</td>\n",
       "      <td>0</td>\n",
       "      <td>0</td>\n",
       "      <td>0</td>\n",
       "      <td>0</td>\n",
       "      <td>5</td>\n",
       "      <td>1</td>\n",
       "      <td>6</td>\n",
       "      <td>110.0</td>\n",
       "      <td>6.0</td>\n",
       "      <td>3.0</td>\n",
       "      <td>1600.0</td>\n",
       "      <td>150.0</td>\n",
       "      <td>94.0</td>\n",
       "      <td>78.0</td>\n",
       "      <td>180.0</td>\n",
       "      <td>48.0</td>\n",
       "      <td>48.0</td>\n",
       "      <td>100.0</td>\n",
       "      <td>100.0</td>\n",
       "    </tr>\n",
       "    <tr>\n",
       "      <th>145</th>\n",
       "      <td>Lost Trail - Powder Mtn</td>\n",
       "      <td>Montana</td>\n",
       "      <td>Montana</td>\n",
       "      <td>8200</td>\n",
       "      <td>1800</td>\n",
       "      <td>6400</td>\n",
       "      <td>0</td>\n",
       "      <td>NaN</td>\n",
       "      <td>0</td>\n",
       "      <td>0</td>\n",
       "      <td>0</td>\n",
       "      <td>0</td>\n",
       "      <td>5</td>\n",
       "      <td>3</td>\n",
       "      <td>8</td>\n",
       "      <td>69.0</td>\n",
       "      <td>2.0</td>\n",
       "      <td>2.5</td>\n",
       "      <td>1800.0</td>\n",
       "      <td>NaN</td>\n",
       "      <td>84.0</td>\n",
       "      <td>81.0</td>\n",
       "      <td>325.0</td>\n",
       "      <td>46.0</td>\n",
       "      <td>46.0</td>\n",
       "      <td>80.0</td>\n",
       "      <td>NaN</td>\n",
       "    </tr>\n",
       "    <tr>\n",
       "      <th>146</th>\n",
       "      <td>Maverick Mountain</td>\n",
       "      <td>Montana</td>\n",
       "      <td>Montana</td>\n",
       "      <td>8520</td>\n",
       "      <td>2020</td>\n",
       "      <td>6500</td>\n",
       "      <td>0</td>\n",
       "      <td>NaN</td>\n",
       "      <td>0</td>\n",
       "      <td>0</td>\n",
       "      <td>0</td>\n",
       "      <td>0</td>\n",
       "      <td>1</td>\n",
       "      <td>1</td>\n",
       "      <td>2</td>\n",
       "      <td>22.0</td>\n",
       "      <td>NaN</td>\n",
       "      <td>1.3</td>\n",
       "      <td>255.0</td>\n",
       "      <td>NaN</td>\n",
       "      <td>NaN</td>\n",
       "      <td>83.0</td>\n",
       "      <td>160.0</td>\n",
       "      <td>39.0</td>\n",
       "      <td>39.0</td>\n",
       "      <td>NaN</td>\n",
       "      <td>NaN</td>\n",
       "    </tr>\n",
       "    <tr>\n",
       "      <th>147</th>\n",
       "      <td>Montana Snowbowl</td>\n",
       "      <td>Montana</td>\n",
       "      <td>Montana</td>\n",
       "      <td>7600</td>\n",
       "      <td>2600</td>\n",
       "      <td>5000</td>\n",
       "      <td>0</td>\n",
       "      <td>NaN</td>\n",
       "      <td>0</td>\n",
       "      <td>0</td>\n",
       "      <td>0</td>\n",
       "      <td>0</td>\n",
       "      <td>2</td>\n",
       "      <td>2</td>\n",
       "      <td>4</td>\n",
       "      <td>37.0</td>\n",
       "      <td>NaN</td>\n",
       "      <td>1.2</td>\n",
       "      <td>950.0</td>\n",
       "      <td>20.0</td>\n",
       "      <td>NaN</td>\n",
       "      <td>58.0</td>\n",
       "      <td>300.0</td>\n",
       "      <td>50.0</td>\n",
       "      <td>50.0</td>\n",
       "      <td>NaN</td>\n",
       "      <td>10.0</td>\n",
       "    </tr>\n",
       "    <tr>\n",
       "      <th>148</th>\n",
       "      <td>Red Lodge Mountain</td>\n",
       "      <td>Montana</td>\n",
       "      <td>Montana</td>\n",
       "      <td>9416</td>\n",
       "      <td>2400</td>\n",
       "      <td>7016</td>\n",
       "      <td>0</td>\n",
       "      <td>0.0</td>\n",
       "      <td>0</td>\n",
       "      <td>2</td>\n",
       "      <td>0</td>\n",
       "      <td>1</td>\n",
       "      <td>3</td>\n",
       "      <td>1</td>\n",
       "      <td>7</td>\n",
       "      <td>70.0</td>\n",
       "      <td>2.0</td>\n",
       "      <td>2.5</td>\n",
       "      <td>1635.0</td>\n",
       "      <td>496.0</td>\n",
       "      <td>142.0</td>\n",
       "      <td>59.0</td>\n",
       "      <td>250.0</td>\n",
       "      <td>67.0</td>\n",
       "      <td>67.0</td>\n",
       "      <td>136.0</td>\n",
       "      <td>NaN</td>\n",
       "    </tr>\n",
       "    <tr>\n",
       "      <th>149</th>\n",
       "      <td>Showdown Montana</td>\n",
       "      <td>Montana</td>\n",
       "      <td>Montana</td>\n",
       "      <td>8200</td>\n",
       "      <td>1400</td>\n",
       "      <td>6800</td>\n",
       "      <td>0</td>\n",
       "      <td>0.0</td>\n",
       "      <td>0</td>\n",
       "      <td>0</td>\n",
       "      <td>0</td>\n",
       "      <td>1</td>\n",
       "      <td>2</td>\n",
       "      <td>1</td>\n",
       "      <td>4</td>\n",
       "      <td>36.0</td>\n",
       "      <td>1.0</td>\n",
       "      <td>1.8</td>\n",
       "      <td>640.0</td>\n",
       "      <td>NaN</td>\n",
       "      <td>86.0</td>\n",
       "      <td>83.0</td>\n",
       "      <td>250.0</td>\n",
       "      <td>47.0</td>\n",
       "      <td>47.0</td>\n",
       "      <td>85.0</td>\n",
       "      <td>NaN</td>\n",
       "    </tr>\n",
       "    <tr>\n",
       "      <th>150</th>\n",
       "      <td>Teton Pass Ski Resort</td>\n",
       "      <td>Montana</td>\n",
       "      <td>Montana</td>\n",
       "      <td>7200</td>\n",
       "      <td>1010</td>\n",
       "      <td>6190</td>\n",
       "      <td>0</td>\n",
       "      <td>NaN</td>\n",
       "      <td>0</td>\n",
       "      <td>0</td>\n",
       "      <td>0</td>\n",
       "      <td>0</td>\n",
       "      <td>1</td>\n",
       "      <td>2</td>\n",
       "      <td>3</td>\n",
       "      <td>43.0</td>\n",
       "      <td>1.0</td>\n",
       "      <td>3.0</td>\n",
       "      <td>330.0</td>\n",
       "      <td>NaN</td>\n",
       "      <td>40.0</td>\n",
       "      <td>54.0</td>\n",
       "      <td>250.0</td>\n",
       "      <td>39.0</td>\n",
       "      <td>39.0</td>\n",
       "      <td>150.0</td>\n",
       "      <td>NaN</td>\n",
       "    </tr>\n",
       "    <tr>\n",
       "      <th>151</th>\n",
       "      <td>Big Mountain Resort</td>\n",
       "      <td>Montana</td>\n",
       "      <td>Montana</td>\n",
       "      <td>6817</td>\n",
       "      <td>2353</td>\n",
       "      <td>4464</td>\n",
       "      <td>0</td>\n",
       "      <td>0.0</td>\n",
       "      <td>0</td>\n",
       "      <td>3</td>\n",
       "      <td>2</td>\n",
       "      <td>6</td>\n",
       "      <td>0</td>\n",
       "      <td>3</td>\n",
       "      <td>14</td>\n",
       "      <td>105.0</td>\n",
       "      <td>4.0</td>\n",
       "      <td>3.3</td>\n",
       "      <td>3000.0</td>\n",
       "      <td>600.0</td>\n",
       "      <td>123.0</td>\n",
       "      <td>72.0</td>\n",
       "      <td>333.0</td>\n",
       "      <td>81.0</td>\n",
       "      <td>81.0</td>\n",
       "      <td>123.0</td>\n",
       "      <td>600.0</td>\n",
       "    </tr>\n",
       "  </tbody>\n",
       "</table>\n",
       "</div>"
      ],
      "text/plain": [
       "                            Name   Region    state  summit_elev  \\\n",
       "140               Big Sky Resort  Montana  Montana        11166   \n",
       "141  Blacktail Mountain Ski Area  Montana  Montana         6676   \n",
       "142                 Bridger Bowl  Montana  Montana         8700   \n",
       "143           Discovery Ski Area  Montana  Montana         8150   \n",
       "144                 Great Divide  Montana  Montana         7330   \n",
       "145      Lost Trail - Powder Mtn  Montana  Montana         8200   \n",
       "146            Maverick Mountain  Montana  Montana         8520   \n",
       "147             Montana Snowbowl  Montana  Montana         7600   \n",
       "148           Red Lodge Mountain  Montana  Montana         9416   \n",
       "149             Showdown Montana  Montana  Montana         8200   \n",
       "150        Teton Pass Ski Resort  Montana  Montana         7200   \n",
       "151          Big Mountain Resort  Montana  Montana         6817   \n",
       "\n",
       "     vertical_drop  base_elev  trams  fastEight  fastSixes  fastQuads  quad  \\\n",
       "140           4350       7500      1        1.0          2          5     3   \n",
       "141           1440       5236      0        NaN          0          0     0   \n",
       "142           2600       6100      0        0.0          0          0     1   \n",
       "143           2380       5770      0        0.0          0          0     0   \n",
       "144           1580       5750      0        0.0          0          0     0   \n",
       "145           1800       6400      0        NaN          0          0     0   \n",
       "146           2020       6500      0        NaN          0          0     0   \n",
       "147           2600       5000      0        NaN          0          0     0   \n",
       "148           2400       7016      0        0.0          0          2     0   \n",
       "149           1400       6800      0        0.0          0          0     0   \n",
       "150           1010       6190      0        NaN          0          0     0   \n",
       "151           2353       4464      0        0.0          0          3     2   \n",
       "\n",
       "     triple  double  surface  total_chairs   Runs  TerrainParks  \\\n",
       "140       7       5       12            36  317.0           8.0   \n",
       "141       1       2        1             4   27.0           NaN   \n",
       "142       6       1        3            11  105.0           2.0   \n",
       "143       5       2        1             8   74.0           1.0   \n",
       "144       0       5        1             6  110.0           6.0   \n",
       "145       0       5        3             8   69.0           2.0   \n",
       "146       0       1        1             2   22.0           NaN   \n",
       "147       0       2        2             4   37.0           NaN   \n",
       "148       1       3        1             7   70.0           2.0   \n",
       "149       1       2        1             4   36.0           1.0   \n",
       "150       0       1        2             3   43.0           1.0   \n",
       "151       6       0        3            14  105.0           4.0   \n",
       "\n",
       "     LongestRun_mi  SkiableTerrain_ac  Snow Making_ac  daysOpenLastYear  \\\n",
       "140            6.0             5800.0           400.0             144.0   \n",
       "141            0.7             1000.0             NaN               NaN   \n",
       "142            1.5             2000.0           100.0             122.0   \n",
       "143            1.5             2400.0            25.0             116.0   \n",
       "144            3.0             1600.0           150.0              94.0   \n",
       "145            2.5             1800.0             NaN              84.0   \n",
       "146            1.3              255.0             NaN               NaN   \n",
       "147            1.2              950.0            20.0               NaN   \n",
       "148            2.5             1635.0           496.0             142.0   \n",
       "149            1.8              640.0             NaN              86.0   \n",
       "150            3.0              330.0             NaN              40.0   \n",
       "151            3.3             3000.0           600.0             123.0   \n",
       "\n",
       "     yearsOpen  averageSnowfall  AdultWeekday  AdultWeekend  \\\n",
       "140       46.0            400.0           NaN           NaN   \n",
       "141       21.0            250.0          42.0          42.0   \n",
       "142       64.0            350.0          63.0          63.0   \n",
       "143       46.0            225.0          49.0          49.0   \n",
       "144       78.0            180.0          48.0          48.0   \n",
       "145       81.0            325.0          46.0          46.0   \n",
       "146       83.0            160.0          39.0          39.0   \n",
       "147       58.0            300.0          50.0          50.0   \n",
       "148       59.0            250.0          67.0          67.0   \n",
       "149       83.0            250.0          47.0          47.0   \n",
       "150       54.0            250.0          39.0          39.0   \n",
       "151       72.0            333.0          81.0          81.0   \n",
       "\n",
       "     projectedDaysOpen  NightSkiing_ac  \n",
       "140              144.0             NaN  \n",
       "141                NaN             NaN  \n",
       "142              133.0             NaN  \n",
       "143              116.0             NaN  \n",
       "144              100.0           100.0  \n",
       "145               80.0             NaN  \n",
       "146                NaN             NaN  \n",
       "147                NaN            10.0  \n",
       "148              136.0             NaN  \n",
       "149               85.0             NaN  \n",
       "150              150.0             NaN  \n",
       "151              123.0           600.0  "
      ]
     },
     "execution_count": 62,
     "metadata": {},
     "output_type": "execute_result"
    }
   ],
   "source": [
    "skidata2"
   ]
  },
  {
   "cell_type": "code",
   "execution_count": 63,
   "metadata": {},
   "outputs": [],
   "source": [
    "subset = skidata2.dropna(subset=['total_chairs', 'AdultWeekday'])"
   ]
  },
  {
   "cell_type": "code",
   "execution_count": 64,
   "metadata": {},
   "outputs": [
    {
     "name": "stdout",
     "output_type": "stream",
     "text": [
      "LinregressResult(slope=3.0849315068493155, intercept=31.9972602739726, rvalue=0.8582327044834772, pvalue=0.0007226692445214006, stderr=0.6149747549700165)\n"
     ]
    }
   ],
   "source": [
    "xs = subset['total_chairs']\n",
    "ys = subset['AdultWeekday']\n",
    "res = linregress(xs, ys)\n",
    "print(res)"
   ]
  },
  {
   "cell_type": "code",
   "execution_count": 65,
   "metadata": {},
   "outputs": [
    {
     "data": {
      "image/png": "[encoded data removed]",
      "text/plain": [
       "<Figure size 432x288 with 1 Axes>"
      ]
     },
     "metadata": {
      "needs_background": "light"
     },
     "output_type": "display_data"
    }
   ],
   "source": [
    "plt.plot(skidata2['total_chairs'], skidata2['AdultWeekday'], 'o')\n",
    "\n",
    "fx = np.array([xs.min(), xs.max()])\n",
    "fy = res.intercept + res.slope * fx\n",
    "plt.plot(fx, fy, '-')\n",
    "\n",
    "plt.show()"
   ]
  },
  {
   "cell_type": "code",
   "execution_count": 66,
   "metadata": {},
   "outputs": [],
   "source": [
    "subset = skidata.dropna(subset=['total_chairs', 'AdultWeekday'])"
   ]
  },
  {
   "cell_type": "code",
   "execution_count": 67,
   "metadata": {},
   "outputs": [
    {
     "name": "stdout",
     "output_type": "stream",
     "text": [
      "LinregressResult(slope=3.5722200192075357, intercept=30.737021592986142, rvalue=0.6174336542470339, pvalue=2.1360626647021006e-30, stderr=0.27494083026249816)\n"
     ]
    }
   ],
   "source": [
    "xs = subset['total_chairs']\n",
    "ys = subset['AdultWeekday']\n",
    "res = linregress(xs, ys)\n",
    "print(res)"
   ]
  },
  {
   "cell_type": "code",
   "execution_count": 68,
   "metadata": {},
   "outputs": [],
   "source": [
    "# with each additional chair, ticket prices go up about $3.57 on average\n",
    "slope2 = 3.5722200192075357"
   ]
  },
  {
   "cell_type": "code",
   "execution_count": 69,
   "metadata": {},
   "outputs": [
    {
     "data": {
      "image/png": "[encoded data removed]",
      "text/plain": [
       "<Figure size 432x288 with 1 Axes>"
      ]
     },
     "metadata": {
      "needs_background": "light"
     },
     "output_type": "display_data"
    }
   ],
   "source": [
    "plt.plot(skidata['total_chairs'], skidata['AdultWeekday'], 'o')\n",
    "\n",
    "fx = np.array([xs.min(), xs.max()])\n",
    "fy = res.intercept + res.slope * fx\n",
    "plt.plot(fx, fy, '-')\n",
    "\n",
    "plt.show()"
   ]
  },
  {
   "cell_type": "markdown",
   "metadata": {},
   "source": [
    "# Modeling"
   ]
  },
  {
   "cell_type": "code",
   "execution_count": 70,
   "metadata": {},
   "outputs": [],
   "source": [
    "#skidata['newAdultWeekday'] = skidata['AdultWeekday'] + slope1 + slope2"
   ]
  },
  {
   "cell_type": "code",
   "execution_count": 71,
   "metadata": {},
   "outputs": [],
   "source": [
    "#new_BMRticket_rev = newBMRdf['newAdultWeekday'] * skiers"
   ]
  },
  {
   "cell_type": "code",
   "execution_count": 72,
   "metadata": {},
   "outputs": [],
   "source": [
    "#new_BMRticket_rev"
   ]
  },
  {
   "cell_type": "code",
   "execution_count": 73,
   "metadata": {},
   "outputs": [],
   "source": [
    "#inc_profit = new_BMRticket_rev - BMRticket_rev"
   ]
  },
  {
   "cell_type": "code",
   "execution_count": 74,
   "metadata": {},
   "outputs": [],
   "source": [
    "#inc_profit"
   ]
  }
 ],
 "metadata": {
  "kernelspec": {
   "display_name": "Python 3",
   "language": "python",
   "name": "python3"
  },
  "language_info": {
   "codemirror_mode": {
    "name": "ipython",
    "version": 3
   },
   "file_extension": ".py",
   "mimetype": "text/x-python",
   "name": "python",
   "nbconvert_exporter": "python",
   "pygments_lexer": "ipython3",
   "version": "3.7.6"
  }
 },
 "nbformat": 4,
 "nbformat_minor": 4
}
